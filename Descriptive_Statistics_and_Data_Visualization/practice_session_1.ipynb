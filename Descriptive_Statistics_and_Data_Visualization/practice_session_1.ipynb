{
 "cells": [
  {
   "cell_type": "markdown",
   "id": "4dcc3111",
   "metadata": {},
   "source": [
    "# Practice Session 1: Importance of Data Visualization\n",
    "\n",
    "In today’s session, we will explore one of the most famous examples in data analysis - **Anscombe’s Quartet**.  \n",
    "This dataset was created by the statistician **Francis Anscombe** in **1973** to demonstrate the importance of **visualizing data** before drawing conclusions.\n",
    "\n",
    "Anscombe designed **four small datasets** that appear nearly identical when summarized numerically, yet look dramatically different when plotted.\\\n",
    "His intention was to show that simple descriptive statistics (like means or correlations) can never replace visual inspection and critical reasoning.\n",
    "\n",
    "You can read more about the story and its modern extensions (including the playful *Datasaurus Dozen*) here:  \n",
    "[Anscombe’s Quartet and the Datasaurus Dozen – Towards Data Science](https://towardsdatascience.com/water-cooler-small-talk-ep-7-anscombes-quartet-and-the-datasaurus-09a143400320/)"
   ]
  },
  {
   "cell_type": "markdown",
   "id": "1a514f77",
   "metadata": {},
   "source": [
    "To start, let’s first load the *Anscombe* dataset from the `seaborn` library."
   ]
  },
  {
   "cell_type": "code",
   "execution_count": 1,
   "id": "0b2bf9bb",
   "metadata": {},
   "outputs": [],
   "source": [
    "import seaborn as sns\n",
    "\n",
    "# Load the example dataset for Anscombe's quartet\n",
    "df = sns.load_dataset(\"anscombe\")"
   ]
  },
  {
   "cell_type": "markdown",
   "id": "1961c38b",
   "metadata": {},
   "source": [
    "Before calculating any summary statistics, let’s first confirm that this dataset actually consists of four separate datasets, and check how many data points each one contains."
   ]
  },
  {
   "cell_type": "code",
   "execution_count": 2,
   "id": "1f9fe4f9",
   "metadata": {},
   "outputs": [
    {
     "data": {
      "text/plain": [
       "array(['I', 'II', 'III', 'IV'], dtype=object)"
      ]
     },
     "execution_count": 2,
     "metadata": {},
     "output_type": "execute_result"
    }
   ],
   "source": [
    "# IDs of datasets\n",
    "df.dataset.unique()"
   ]
  },
  {
   "cell_type": "code",
   "execution_count": 3,
   "id": "d0089833",
   "metadata": {},
   "outputs": [
    {
     "data": {
      "text/plain": [
       "dataset\n",
       "I      11\n",
       "II     11\n",
       "III    11\n",
       "IV     11\n",
       "dtype: int64"
      ]
     },
     "execution_count": 3,
     "metadata": {},
     "output_type": "execute_result"
    }
   ],
   "source": [
    "# Number of data points in each dataset\n",
    "df.groupby('dataset').size()"
   ]
  },
  {
   "cell_type": "markdown",
   "id": "7b988e07",
   "metadata": {},
   "source": [
    "Let’s calculate the mean, variance, and standard deviation for x and y across all four datasets."
   ]
  },
  {
   "cell_type": "code",
   "execution_count": 4,
   "id": "91b43491",
   "metadata": {},
   "outputs": [
    {
     "data": {
      "text/html": [
       "<div>\n",
       "<style scoped>\n",
       "    .dataframe tbody tr th:only-of-type {\n",
       "        vertical-align: middle;\n",
       "    }\n",
       "\n",
       "    .dataframe tbody tr th {\n",
       "        vertical-align: top;\n",
       "    }\n",
       "\n",
       "    .dataframe thead tr th {\n",
       "        text-align: left;\n",
       "    }\n",
       "\n",
       "    .dataframe thead tr:last-of-type th {\n",
       "        text-align: right;\n",
       "    }\n",
       "</style>\n",
       "<table border=\"1\" class=\"dataframe\">\n",
       "  <thead>\n",
       "    <tr>\n",
       "      <th></th>\n",
       "      <th colspan=\"3\" halign=\"left\">x</th>\n",
       "      <th colspan=\"3\" halign=\"left\">y</th>\n",
       "    </tr>\n",
       "    <tr>\n",
       "      <th></th>\n",
       "      <th>mean</th>\n",
       "      <th>var</th>\n",
       "      <th>std</th>\n",
       "      <th>mean</th>\n",
       "      <th>var</th>\n",
       "      <th>std</th>\n",
       "    </tr>\n",
       "    <tr>\n",
       "      <th>dataset</th>\n",
       "      <th></th>\n",
       "      <th></th>\n",
       "      <th></th>\n",
       "      <th></th>\n",
       "      <th></th>\n",
       "      <th></th>\n",
       "    </tr>\n",
       "  </thead>\n",
       "  <tbody>\n",
       "    <tr>\n",
       "      <th>I</th>\n",
       "      <td>9.0</td>\n",
       "      <td>11.0</td>\n",
       "      <td>3.317</td>\n",
       "      <td>7.501</td>\n",
       "      <td>4.127</td>\n",
       "      <td>2.032</td>\n",
       "    </tr>\n",
       "    <tr>\n",
       "      <th>II</th>\n",
       "      <td>9.0</td>\n",
       "      <td>11.0</td>\n",
       "      <td>3.317</td>\n",
       "      <td>7.501</td>\n",
       "      <td>4.128</td>\n",
       "      <td>2.032</td>\n",
       "    </tr>\n",
       "    <tr>\n",
       "      <th>III</th>\n",
       "      <td>9.0</td>\n",
       "      <td>11.0</td>\n",
       "      <td>3.317</td>\n",
       "      <td>7.500</td>\n",
       "      <td>4.123</td>\n",
       "      <td>2.030</td>\n",
       "    </tr>\n",
       "    <tr>\n",
       "      <th>IV</th>\n",
       "      <td>9.0</td>\n",
       "      <td>11.0</td>\n",
       "      <td>3.317</td>\n",
       "      <td>7.501</td>\n",
       "      <td>4.123</td>\n",
       "      <td>2.031</td>\n",
       "    </tr>\n",
       "  </tbody>\n",
       "</table>\n",
       "</div>"
      ],
      "text/plain": [
       "           x                   y              \n",
       "        mean   var    std   mean    var    std\n",
       "dataset                                       \n",
       "I        9.0  11.0  3.317  7.501  4.127  2.032\n",
       "II       9.0  11.0  3.317  7.501  4.128  2.032\n",
       "III      9.0  11.0  3.317  7.500  4.123  2.030\n",
       "IV       9.0  11.0  3.317  7.501  4.123  2.031"
      ]
     },
     "execution_count": 4,
     "metadata": {},
     "output_type": "execute_result"
    }
   ],
   "source": [
    "# Summary stats for x and y by dataset\n",
    "summary = (\n",
    "    df.groupby(\"dataset\")[[\"x\", \"y\"]]\n",
    "      .agg([\"mean\", \"var\", \"std\"])\n",
    "      .round(3)\n",
    ")\n",
    "summary\n"
   ]
  },
  {
   "cell_type": "markdown",
   "id": "827ad17f",
   "metadata": {},
   "source": [
    "> *Note:*\n",
    "> The `.agg()` method allows you to apply one or several aggregation functions to one or more columns at once.\\\n",
    "> You can pass them as a: \n",
    "> - list (`[\"mean\", \"var\", \"std\"]`) or\n",
    "> - as a dictionary specifying different functions for each column, e.g.:\n",
    "> `df.agg({\"x\": [\"mean\", \"std\"], \"y\": [\"mean\", \"std\"]})`\n",
    "\n",
    "Now, let’s extend our summary by also including the **median**, **minimum**, and **maximum** values.  \n",
    "This gives us a more complete picture of how the values are distributed within each dataset."
   ]
  },
  {
   "cell_type": "code",
   "execution_count": 5,
   "id": "81501794",
   "metadata": {},
   "outputs": [
    {
     "data": {
      "text/html": [
       "<div>\n",
       "<style scoped>\n",
       "    .dataframe tbody tr th:only-of-type {\n",
       "        vertical-align: middle;\n",
       "    }\n",
       "\n",
       "    .dataframe tbody tr th {\n",
       "        vertical-align: top;\n",
       "    }\n",
       "\n",
       "    .dataframe thead tr th {\n",
       "        text-align: left;\n",
       "    }\n",
       "\n",
       "    .dataframe thead tr:last-of-type th {\n",
       "        text-align: right;\n",
       "    }\n",
       "</style>\n",
       "<table border=\"1\" class=\"dataframe\">\n",
       "  <thead>\n",
       "    <tr>\n",
       "      <th></th>\n",
       "      <th colspan=\"6\" halign=\"left\">x</th>\n",
       "      <th colspan=\"6\" halign=\"left\">y</th>\n",
       "    </tr>\n",
       "    <tr>\n",
       "      <th></th>\n",
       "      <th>mean</th>\n",
       "      <th>var</th>\n",
       "      <th>std</th>\n",
       "      <th>median</th>\n",
       "      <th>min</th>\n",
       "      <th>max</th>\n",
       "      <th>mean</th>\n",
       "      <th>var</th>\n",
       "      <th>std</th>\n",
       "      <th>median</th>\n",
       "      <th>min</th>\n",
       "      <th>max</th>\n",
       "    </tr>\n",
       "    <tr>\n",
       "      <th>dataset</th>\n",
       "      <th></th>\n",
       "      <th></th>\n",
       "      <th></th>\n",
       "      <th></th>\n",
       "      <th></th>\n",
       "      <th></th>\n",
       "      <th></th>\n",
       "      <th></th>\n",
       "      <th></th>\n",
       "      <th></th>\n",
       "      <th></th>\n",
       "      <th></th>\n",
       "    </tr>\n",
       "  </thead>\n",
       "  <tbody>\n",
       "    <tr>\n",
       "      <th>I</th>\n",
       "      <td>9.0</td>\n",
       "      <td>11.0</td>\n",
       "      <td>3.317</td>\n",
       "      <td>9.0</td>\n",
       "      <td>4.0</td>\n",
       "      <td>14.0</td>\n",
       "      <td>7.501</td>\n",
       "      <td>4.127</td>\n",
       "      <td>2.032</td>\n",
       "      <td>7.58</td>\n",
       "      <td>4.26</td>\n",
       "      <td>10.84</td>\n",
       "    </tr>\n",
       "    <tr>\n",
       "      <th>II</th>\n",
       "      <td>9.0</td>\n",
       "      <td>11.0</td>\n",
       "      <td>3.317</td>\n",
       "      <td>9.0</td>\n",
       "      <td>4.0</td>\n",
       "      <td>14.0</td>\n",
       "      <td>7.501</td>\n",
       "      <td>4.128</td>\n",
       "      <td>2.032</td>\n",
       "      <td>8.14</td>\n",
       "      <td>3.10</td>\n",
       "      <td>9.26</td>\n",
       "    </tr>\n",
       "    <tr>\n",
       "      <th>III</th>\n",
       "      <td>9.0</td>\n",
       "      <td>11.0</td>\n",
       "      <td>3.317</td>\n",
       "      <td>9.0</td>\n",
       "      <td>4.0</td>\n",
       "      <td>14.0</td>\n",
       "      <td>7.500</td>\n",
       "      <td>4.123</td>\n",
       "      <td>2.030</td>\n",
       "      <td>7.11</td>\n",
       "      <td>5.39</td>\n",
       "      <td>12.74</td>\n",
       "    </tr>\n",
       "    <tr>\n",
       "      <th>IV</th>\n",
       "      <td>9.0</td>\n",
       "      <td>11.0</td>\n",
       "      <td>3.317</td>\n",
       "      <td>8.0</td>\n",
       "      <td>8.0</td>\n",
       "      <td>19.0</td>\n",
       "      <td>7.501</td>\n",
       "      <td>4.123</td>\n",
       "      <td>2.031</td>\n",
       "      <td>7.04</td>\n",
       "      <td>5.25</td>\n",
       "      <td>12.50</td>\n",
       "    </tr>\n",
       "  </tbody>\n",
       "</table>\n",
       "</div>"
      ],
      "text/plain": [
       "           x                                     y                             \\\n",
       "        mean   var    std median  min   max   mean    var    std median   min   \n",
       "dataset                                                                         \n",
       "I        9.0  11.0  3.317    9.0  4.0  14.0  7.501  4.127  2.032   7.58  4.26   \n",
       "II       9.0  11.0  3.317    9.0  4.0  14.0  7.501  4.128  2.032   8.14  3.10   \n",
       "III      9.0  11.0  3.317    9.0  4.0  14.0  7.500  4.123  2.030   7.11  5.39   \n",
       "IV       9.0  11.0  3.317    8.0  8.0  19.0  7.501  4.123  2.031   7.04  5.25   \n",
       "\n",
       "                \n",
       "           max  \n",
       "dataset         \n",
       "I        10.84  \n",
       "II        9.26  \n",
       "III      12.74  \n",
       "IV       12.50  "
      ]
     },
     "execution_count": 5,
     "metadata": {},
     "output_type": "execute_result"
    }
   ],
   "source": [
    "summary = (\n",
    "    df.groupby(\"dataset\")[[\"x\", \"y\"]]\n",
    "      .agg([\"mean\", \"var\", \"std\", \"median\", \"min\", \"max\"])\n",
    "      .round(3)\n",
    ")\n",
    "summary"
   ]
  },
  {
   "cell_type": "markdown",
   "id": "93e41d84",
   "metadata": {},
   "source": [
    "Now it’s time to visualize the data."
   ]
  },
  {
   "cell_type": "code",
   "execution_count": 6,
   "id": "4ea30d42",
   "metadata": {},
   "outputs": [
    {
     "data": {
      "text/plain": [
       "<seaborn.axisgrid.FacetGrid at 0x1f11889cc20>"
      ]
     },
     "execution_count": 6,
     "metadata": {},
     "output_type": "execute_result"
    },
    {
     "data": {
      "image/png": "[encoded data removed]",
      "text/plain": [
       "<Figure size 800x800 with 4 Axes>"
      ]
     },
     "metadata": {},
     "output_type": "display_data"
    }
   ],
   "source": [
    "# Create a simple scatterplot with a linear fit for each dataset\n",
    "sns.lmplot(\n",
    "    data=df, x=\"x\", y=\"y\", col=\"dataset\", hue=\"dataset\",\n",
    "    col_wrap=2, ci=None,\n",
    "    height=4, scatter_kws={\"s\": 50, \"alpha\": 0.6}\n",
    ")"
   ]
  },
  {
   "cell_type": "markdown",
   "id": "041c1d11",
   "metadata": {},
   "source": [
    "> *Note:*\\\n",
    "> `sns.lmplot()` combines a scatter plot with an optional regression line (by default, it's linear).\\\n",
    "> It automatically creates one small plot (facet) per dataset, making comparisons easy."
   ]
  },
  {
   "cell_type": "markdown",
   "id": "ae9b8510",
   "metadata": {},
   "source": [
    "We can take this visualization one step further by adding **mean** and **median** reference lines.  \n",
    "These help us see where the data points are centered and how they are spread both horizontally and vertically.\n",
    "\n",
    "This makes the comparison between the four datasets even clearer and highlights that,  \n",
    "although their numerical summaries are similar, their patterns differ substantially."
   ]
  },
  {
   "cell_type": "code",
   "execution_count": null,
   "id": "6baf16b5",
   "metadata": {},
   "outputs": [
    {
     "ename": "TypeError",
     "evalue": "'NoneType' object is not callable",
     "output_type": "error",
     "traceback": [
      "\u001b[1;31m---------------------------------------------------------------------------\u001b[0m",
      "\u001b[1;31mTypeError\u001b[0m                                 Traceback (most recent call last)",
      "Cell \u001b[1;32mIn[7], line 28\u001b[0m\n\u001b[0;32m     22\u001b[0m         leg\u001b[38;5;241m.\u001b[39mremove()\n\u001b[0;32m     24\u001b[0m line_handles \u001b[38;5;241m=\u001b[39m [\n\u001b[0;32m     25\u001b[0m     Line2D([\u001b[38;5;241m0\u001b[39m], [\u001b[38;5;241m0\u001b[39m], color\u001b[38;5;241m=\u001b[39m\u001b[38;5;124m\"\u001b[39m\u001b[38;5;124mblack\u001b[39m\u001b[38;5;124m\"\u001b[39m, linestyle\u001b[38;5;241m=\u001b[39m\u001b[38;5;124m\"\u001b[39m\u001b[38;5;124m--\u001b[39m\u001b[38;5;124m\"\u001b[39m, label\u001b[38;5;241m=\u001b[39m\u001b[38;5;124m\"\u001b[39m\u001b[38;5;124mMedian\u001b[39m\u001b[38;5;124m\"\u001b[39m),\n\u001b[0;32m     26\u001b[0m     Line2D([\u001b[38;5;241m0\u001b[39m], [\u001b[38;5;241m0\u001b[39m], color\u001b[38;5;241m=\u001b[39m\u001b[38;5;124m\"\u001b[39m\u001b[38;5;124mgray\u001b[39m\u001b[38;5;124m\"\u001b[39m,  linestyle\u001b[38;5;241m=\u001b[39m\u001b[38;5;124m\"\u001b[39m\u001b[38;5;124m:\u001b[39m\u001b[38;5;124m\"\u001b[39m,  label\u001b[38;5;241m=\u001b[39m\u001b[38;5;124m\"\u001b[39m\u001b[38;5;124mMean\u001b[39m\u001b[38;5;124m\"\u001b[39m),\n\u001b[0;32m     27\u001b[0m ]\n\u001b[1;32m---> 28\u001b[0m g\u001b[38;5;241m.\u001b[39mlegend(handles\u001b[38;5;241m=\u001b[39mline_handles, loc\u001b[38;5;241m=\u001b[39m\u001b[38;5;124m\"\u001b[39m\u001b[38;5;124mupper center\u001b[39m\u001b[38;5;124m\"\u001b[39m, ncol\u001b[38;5;241m=\u001b[39m\u001b[38;5;241m2\u001b[39m, bbox_to_anchor\u001b[38;5;241m=\u001b[39m(\u001b[38;5;241m0.5\u001b[39m, \u001b[38;5;241m0\u001b[39m), title\u001b[38;5;241m=\u001b[39m\u001b[38;5;124m\"\u001b[39m\u001b[38;5;124mReference Lines\u001b[39m\u001b[38;5;124m\"\u001b[39m)\n\u001b[0;32m     30\u001b[0m plt\u001b[38;5;241m.\u001b[39mshow()\n",
      "\u001b[1;31mTypeError\u001b[0m: 'NoneType' object is not callable"
     ]
    },
    {
     "data": {
      "image/png": "[encoded data removed]",
      "text/plain": [
       "<Figure size 1200x300 with 4 Axes>"
      ]
     },
     "metadata": {},
     "output_type": "display_data"
    }
   ],
   "source": [
    "import matplotlib.pyplot as plt\n",
    "from matplotlib.lines import Line2D\n",
    "\n",
    "# Custom colors per dataset\n",
    "colors = {\"I\": \"#fc7202\", \"II\": \"#1b7173\", \"III\": \"#c25bc7\", \"IV\": \"#004aad\"}\n",
    "\n",
    "# Facet grid (with hue for colors)\n",
    "g = sns.FacetGrid(df, col=\"dataset\", hue=\"dataset\", palette=colors, margin_titles=True)\n",
    "g.map_dataframe(sns.scatterplot, x=\"x\", y=\"y\", alpha=0.7, s=50, legend=False)\n",
    "\n",
    "# Add median/mean lines for each facet\n",
    "for ax, (name, subset) in zip(g.axes.flat, df.groupby(\"dataset\")):\n",
    "    ax.axvline(subset[\"x\"].median(), color=\"black\", linestyle=\"--\", linewidth=1.2)  # Median (x)\n",
    "    ax.axvline(subset[\"x\"].mean(),   color=\"gray\",  linestyle=\":\",  linewidth=1.2)  # Mean (x)\n",
    "    ax.axhline(subset[\"y\"].median(), color=\"black\", linestyle=\"--\", linewidth=1.2)  # Median (y)\n",
    "    ax.axhline(subset[\"y\"].mean(),   color=\"gray\",  linestyle=\":\",  linewidth=1.2)  # Mean (y)\n",
    "    ax.set_title(f\"Dataset {name}\")\n",
    "\n",
    "for ax in g.axes.flat:\n",
    "    leg = ax.get_legend()\n",
    "    if leg:\n",
    "        leg.remove()\n",
    "\n",
    "line_handles = [\n",
    "    Line2D([0], [0], color=\"black\", linestyle=\"--\", label=\"Median\"),\n",
    "    Line2D([0], [0], color=\"gray\",  linestyle=\":\",  label=\"Mean\"),\n",
    "]\n",
    "g.legend(handles=line_handles, loc=\"lower center\", ncol=2, bbox_to_anchor=(0.5, 0), title=\"Reference Lines\")\n",
    "\n",
    "plt.show()\n"
   ]
  }
 ],
 "metadata": {
  "kernelspec": {
   "display_name": "base",
   "language": "python",
   "name": "python3"
  },
  "language_info": {
   "codemirror_mode": {
    "name": "ipython",
    "version": 3
   },
   "file_extension": ".py",
   "mimetype": "text/x-python",
   "name": "python",
   "nbconvert_exporter": "python",
   "pygments_lexer": "ipython3",
   "version": "3.13.5"
  }
 },
 "nbformat": 4,
 "nbformat_minor": 5
}
