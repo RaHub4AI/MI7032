{
 "cells": [
  {
   "cell_type": "markdown",
   "id": "e728ea0b",
   "metadata": {},
   "source": [
    "# Practice Session 2: Data and Probability Distributions\n",
    "\n",
    "In this session, we explore how data can be represented and analyzed through **probability distributions**.  \n",
    "Probability describes how likely different outcomes are to occur. In some simple cases (such as rolling dice) we can list every possible result.  \n",
    "But in most real-world problems, the number of possible outcomes is extremely large or even unknowable.  \n",
    "\n",
    "In such situations, we rely on **theoretical probability distributions** to describe the data-generating process in a compact, mathematical way.  \n",
    "These models allow us to reason about uncertainty and make predictions without knowing every possible event in advance.\n",
    "\n",
    "### Empirical vs. Theoretical Distributions\n",
    "\n",
    "**Empirical distribution**  \n",
    "- Summarizes what we *observe* in real data.  \n",
    "- Built from frequency counts or relative frequencies of observed values.  \n",
    "\n",
    "**Theoretical distribution**  \n",
    "- A mathematical description of how data *should* behave under certain assumptions.  \n",
    "- Defined by parameters (e.g., mean (*μ*), standard deviation (*σ*)).  \n",
    "\n",
    "By comparing the empirical and theoretical distributions, we can evaluate how well a mathematical model describes real data. This is a central idea in statistical modeling.\n",
    "\n",
    "### Why Probability Distributions Matter\n",
    "\n",
    "Probability distributions form the foundation of **statistical inference**.  \n",
    "They allow us to quantify how likely our observed data would be if a particular assumption, called the **null hypothesis**, were true.\n",
    "\n",
    "For example, in a *t*-test or ANOVA, we ask:\n",
    "*How probable is it to observe such a large difference between groups if, in reality, there is no true difference?*\n",
    "\n",
    "These tests, along with regression and many other methods, are **parametric**. They assume that random errors follow a particular theoretical distribution, usually the **Normal** distribution.\n",
    "\n",
    "## Part 1: Fair and Biased Dice\n",
    "\n",
    "To connect theory with practice, we will now simulate one of the most intuitive probability experiments: **rolling dice**.  \n",
    "A die is a perfect illustration of a **discrete probability distribution** where each outcome has a defined probability.\n",
    "\n",
    "- In a **fair die**, every face (1 to 6) has the same probability of occurring:  \n",
    "  \\begin{equation} P(1) = P(2) = \\dots = P(6) = \\frac{1}{6} \\end{equation}\n",
    "- In a **biased (unfair) die**, some faces are more likely than others, meaning the theoretical probabilities are *not equal*.\n",
    "\n",
    "Our goal is to:\n",
    "1. Generate data from both a fair and a biased die.  \n",
    "2. Compare the **empirical distributions** (observed frequencies) with the **theoretical expectations**.  \n",
    "3. Observe how differences become clearer as the number of rolls increases.\n",
    "\n",
    "This experiment demonstrates how **probability models** translate into **observable data**, and how we can detect deviations from randomness using simulation.\n",
    "\n",
    "\n"
   ]
  },
  {
   "cell_type": "code",
   "execution_count": 123,
   "id": "8a70f569",
   "metadata": {},
   "outputs": [],
   "source": [
    "import pandas as pd\n",
    "import numpy as np\n",
    "from numpy.random import default_rng\n",
    "\n",
    "import seaborn as sns\n",
    "\n",
    "from scipy import stats\n",
    "from scipy.stats import skew, kurtosis, shapiro, kstest\n",
    "\n",
    "import matplotlib.pyplot as plt\n",
    "plt.rcParams[\"figure.figsize\"] = (8, 8)"
   ]
  },
  {
   "cell_type": "code",
   "execution_count": null,
   "id": "c50d8916",
   "metadata": {},
   "outputs": [],
   "source": [
    "# Initialize a random number generator with a fixed seed (0)\n",
    "# Using a fixed seed ensures that the random results are reproducible\n",
    "rng = default_rng(42)"
   ]
  },
  {
   "cell_type": "markdown",
   "id": "a58f0417",
   "metadata": {},
   "source": [
    "![answer_42](https://m.media-amazon.com/images/I/71OUpZCZwWL._UF894,1000_QL80_.jpg)"
   ]
  },
  {
   "cell_type": "markdown",
   "id": "6677a009",
   "metadata": {},
   "source": [
    "First, we’ll define two functions that simulate rolling dice.  \n",
    "- The first one will represent a fair die (`fair_die`), where all six faces are equally likely to appear.  \n",
    "- The second one will represent a biased die (`biased_die`), where one face (6) has a higher probability than the others.  \n",
    "\n",
    "These functions will help us generate simulated data and later compare how the outcomes differ between fair and biased dice."
   ]
  },
  {
   "cell_type": "code",
   "execution_count": 4,
   "id": "e4a051c4",
   "metadata": {},
   "outputs": [],
   "source": [
    "def fair_die(n_rolls):\n",
    " return rng.integers(low=1, high=7, size=n_rolls)\n",
    "\n",
    "def biased_die(n_rolls):\n",
    " p = [1/7, 1/7, 1/7, 1/7, 1/7, 2/7]\n",
    " return rng.choice([1,2,3,4,5,6], size=n_rolls, p=p)"
   ]
  },
  {
   "cell_type": "markdown",
   "id": "40b3ed30",
   "metadata": {},
   "source": [
    "#### <font color='#fc7202'> Task 1: </font> \n",
    "Roll both dice once. Based on a single roll, can we tell which die is fair and which one is biased?"
   ]
  },
  {
   "cell_type": "code",
   "execution_count": null,
   "id": "7699ae4c",
   "metadata": {},
   "outputs": [],
   "source": [
    "# YOUR CODE HERE!"
   ]
  },
  {
   "cell_type": "markdown",
   "id": "468f160d",
   "metadata": {},
   "source": [
    "#### <font color='#fc7202'> Task 2: </font> \n",
    "Use the functions you defined above to roll each die seven times.  \n",
    "> *Remember that the functions take as input the number of rolls you want to perform.*  \n",
    "\n",
    "After generating the results, consider whether you can tell which die is fair and which one is biased based on these seven outcomes."
   ]
  },
  {
   "cell_type": "code",
   "execution_count": null,
   "id": "16e26561",
   "metadata": {},
   "outputs": [],
   "source": [
    "# YOUR CODE HERE!"
   ]
  },
  {
   "cell_type": "markdown",
   "id": "76e0293b",
   "metadata": {},
   "source": [
    "#### <font color='#fc7202'> Task 3: </font>  \n",
    "Generate a new series of seven throws for both dice, and store the results in a DataFrame with two columns: **`fair_die`** and **`biased_die`**.  \n",
    "> *Hint:* \n",
    "> - Think about how you can use a **dictionary** to create a DataFrame.\n",
    "> - To visualize the results, either use **`np.bincount()`** to count how many times each face (1–6) appears, or try using **Seaborn’s `countplot()`** function, which performs the counting automatically.  \n",
    "\n",
    "After that, plot the **bar plots** of both series and compare their distributions.\n"
   ]
  },
  {
   "cell_type": "code",
   "execution_count": null,
   "id": "caac4e7b",
   "metadata": {},
   "outputs": [],
   "source": [
    "# YOUR CODE HERE!"
   ]
  },
  {
   "cell_type": "markdown",
   "id": "82035f6b",
   "metadata": {},
   "source": [
    "#### Visualizing Multiple Simulations\n",
    "\n",
    "To better understand how randomness affects our results, let’s simulate the experiment several times.  \n",
    "Below, we generate **nine independent series**, each containing **seven throws** for both the fair and the biased die.  \n",
    "The results are displayed as a **3 × 3 grid of bar plots**, showing how the observed frequencies vary between simulations even when the underlying probabilities remain the same.\n"
   ]
  },
  {
   "cell_type": "code",
   "execution_count": null,
   "id": "8d955b86",
   "metadata": {},
   "outputs": [
    {
     "data": {
      "image/png": "[encoded data removed]",
      "text/plain": [
       "<Figure size 1024.12x900 with 9 Axes>"
      ]
     },
     "metadata": {},
     "output_type": "display_data"
    }
   ],
   "source": [
    "# Create a list to store simulation results\n",
    "all_data = []\n",
    "\n",
    "# Generate nine independent 7-throw series for both dice\n",
    "for i in range(9):\n",
    "    df = pd.DataFrame({'fair_die': fair_die(7),'biased_die': biased_die(7)})\n",
    "    \n",
    "    # Add an identifier for each simulation\n",
    "    df['simulation'] = i + 1\n",
    "    \n",
    "    # Reshape to long format for easier plotting with seaborn\n",
    "    df_long = df.melt(id_vars='simulation', value_vars=['fair_die', 'biased_die'],\n",
    "                      var_name='die_type', value_name='value')\n",
    "    all_data.append(df_long)\n",
    "\n",
    "# Combine all simulations into one DataFrame\n",
    "plot_df = pd.concat(all_data, ignore_index=True)\n",
    "\n",
    "# Create a 3×3 grid of bar plots (one per simulation)\n",
    "g = sns.FacetGrid(plot_df, col='simulation', col_wrap=3, height=3, sharey=True)\n",
    "g.map_dataframe(sns.countplot, x='value', hue='die_type',\n",
    "                palette={'fair_die': '#fc7202', 'biased_die': '#184445'})\n",
    "\n",
    "g.set_titles('Simulation {col_name}')\n",
    "g.set_axis_labels('Die face', 'Count')\n",
    "g.add_legend(title='Die type')\n",
    "\n",
    "plt.show()\n"
   ]
  },
  {
   "cell_type": "markdown",
   "id": "d9153c92",
   "metadata": {},
   "source": [
    "#### <font color='#fc7202'> Task 4: </font>  \n",
    "Examine the 3 × 3 grid of bar plots. Based on these nine simulations (each with seven throws per die), can you tell which die is fair and which one is biased?  \n",
    "\n"
   ]
  },
  {
   "cell_type": "markdown",
   "id": "79b4b3b6",
   "metadata": {},
   "source": [
    "#### <font color='#fc7202'> Task 5: </font>  \n",
    "In the cell below, **increase the number of rolls `n`** and re-run the simulation for both dice.  \n",
    "\n",
    "From what value of `n` do the results give you enough evidence to distinguish the **biased** die from the **fair** die?"
   ]
  },
  {
   "cell_type": "code",
   "execution_count": 95,
   "id": "8496c5a9",
   "metadata": {},
   "outputs": [
    {
     "data": {
      "image/png": "[encoded data removed]",
      "text/plain": [
       "<Figure size 1000x400 with 2 Axes>"
      ]
     },
     "metadata": {},
     "output_type": "display_data"
    }
   ],
   "source": [
    "n = 7  # Increase this value and re-run the simulation\n",
    "\n",
    "# Generate new series of n throws for both dice\n",
    "fair_series = fair_die(n)\n",
    "biased_series = biased_die(n)\n",
    "\n",
    "# Combine into a single DataFrame\n",
    "df = pd.DataFrame({'die_type': ['Fair'] * n + ['Biased'] * n, 'value': np.concatenate([fair_series, biased_series])})\n",
    "\n",
    "# Set up side-by-side subplots\n",
    "fig, axs = plt.subplots(1, 2, figsize=(10, 4), sharey=True)\n",
    "\n",
    "# Plot fair die\n",
    "sns.countplot(data=df[df['die_type'] == 'Fair'], x='value', color='#fc7202', order=[1, 2, 3, 4, 5, 6], ax=axs[0])\n",
    "axs[0].set_title('Fair die')\n",
    "axs[0].set_xlabel('Die face')\n",
    "axs[0].set_ylabel('Count')\n",
    "\n",
    "# Plot biased die\n",
    "sns.countplot(data=df[df['die_type'] == 'Biased'], x='value', color='#184445', order=[1, 2, 3, 4, 5, 6], ax=axs[1])\n",
    "axs[1].set_title('Biased die')\n",
    "axs[1].set_xlabel('Die face')\n",
    "axs[1].set_ylabel('')\n",
    "\n",
    "plt.tight_layout()\n",
    "plt.show()"
   ]
  },
  {
   "cell_type": "markdown",
   "id": "62e06217",
   "metadata": {},
   "source": [
    "#### The Number of Sixes and the Binomial Distribution\n",
    "\n",
    "When we roll a die several times, each throw can be viewed as a **Bernoulli trial**, meaning that there are only two possible outcomes for the question *“Did we roll a six?”*: `yes` or `no`.\n",
    "\n",
    "If this experiment is repeated $n$ times, the total number of sixes follows a **Binomial distribution**.  \n",
    "This happens because each roll is **independent**, the probability of rolling a six is **constant** $p = \\frac{1}{6}$, and we are simply counting how many sixes occur in $n$ repeated rolls.\n",
    "\n",
    "The binomial model allows us to describe the expected variability in the number of sixes across many repetitions of the experiment.  \n",
    "In the next step, we will simulate this process and compare the results to the theoretical binomial distribution.\n",
    "\n"
   ]
  },
  {
   "cell_type": "markdown",
   "id": "0162e66b",
   "metadata": {},
   "source": [
    "#### <font color='#fc7202'> Task 6: </font>  \n",
    "Roll the fair die **10 times** and count how many times you get a six.  \n",
    "\n",
    "> *Hint:* You can use a **`for` loop** to simulate each roll, check whether the result equals six, and keep a running count."
   ]
  },
  {
   "cell_type": "code",
   "execution_count": null,
   "id": "e60d3e8f",
   "metadata": {},
   "outputs": [],
   "source": [
    "# YOUR CODE HERE!"
   ]
  },
  {
   "cell_type": "markdown",
   "id": "9c065245",
   "metadata": {},
   "source": [
    "#### <font color='#fc7202'> Task 7: </font>  \n",
    "Now roll **both dice** (the fair and the biased one) **10 times each**, and count how many sixes you get for each die.  \n",
    "Repeat this entire experiment **1000 times** to see how the number of sixes varies between repetitions.  \n",
    "\n",
    "For every repetition, store the number of sixes in a list or array.  \n",
    "After running the simulation, you will have two datasets (one for the fair die and one for the biased die) showing how often different counts of sixes occurred across 1000 experiments.\n",
    "\n",
    "Finally, **plot the results as bar plots** to visualize how the distributions of the number of sixes differ between the fair and biased dice.\n",
    "\n",
    "> *Hint:*  \n",
    "> - Use a **`for` loop** to repeat the 10-roll experiment 1000 times.  \n",
    "> - Inside the loop, count how many sixes appear using `np.sum()` or a simple counter.  \n",
    "> - After collecting all counts, use `sns.countplot()` or `plt.bar()` to display how frequently each number of sixes occurred.\n",
    "\n",
    "\n",
    "\n",
    "\n"
   ]
  },
  {
   "cell_type": "code",
   "execution_count": null,
   "id": "32293dea",
   "metadata": {},
   "outputs": [],
   "source": [
    "# YOUR CODE HERE!"
   ]
  },
  {
   "cell_type": "markdown",
   "id": "2455c2b5",
   "metadata": {},
   "source": [
    ">If you want to learn more about the **Binomial distribution**, you can visit the interactive explanation here:  \n",
    "> [Math Is Fun — Binomial Distribution](https://www.mathsisfun.com/data/binomial-distribution.html)\n"
   ]
  },
  {
   "cell_type": "markdown",
   "id": "7efce511",
   "metadata": {},
   "source": [
    "## Part 2: The Wine Quality Dataset\n",
    "\n",
    "So far, we have worked with simulated data to understand basic probability concepts.  \n",
    "Next, we turn to a real-world dataset: the **Wine Quality dataset**, which contains chemical measurements of red wines along with their quality ratings.  \n",
    "\n",
    "Let’s start by reading in the data and taking a first look at its structure (the variables it contains, their types, and what kind of information they represent).\n"
   ]
  },
  {
   "cell_type": "code",
   "execution_count": null,
   "id": "07e4c26b",
   "metadata": {},
   "outputs": [
    {
     "data": {
      "text/html": [
       "<div>\n",
       "<style scoped>\n",
       "    .dataframe tbody tr th:only-of-type {\n",
       "        vertical-align: middle;\n",
       "    }\n",
       "\n",
       "    .dataframe tbody tr th {\n",
       "        vertical-align: top;\n",
       "    }\n",
       "\n",
       "    .dataframe thead th {\n",
       "        text-align: right;\n",
       "    }\n",
       "</style>\n",
       "<table border=\"1\" class=\"dataframe\">\n",
       "  <thead>\n",
       "    <tr style=\"text-align: right;\">\n",
       "      <th></th>\n",
       "      <th>fixed acidity</th>\n",
       "      <th>volatile acidity</th>\n",
       "      <th>citric acid</th>\n",
       "      <th>residual sugar</th>\n",
       "      <th>chlorides</th>\n",
       "      <th>free sulfur dioxide</th>\n",
       "      <th>total sulfur dioxide</th>\n",
       "      <th>density</th>\n",
       "      <th>pH</th>\n",
       "      <th>sulphates</th>\n",
       "      <th>alcohol</th>\n",
       "      <th>quality</th>\n",
       "    </tr>\n",
       "  </thead>\n",
       "  <tbody>\n",
       "    <tr>\n",
       "      <th>0</th>\n",
       "      <td>7.4</td>\n",
       "      <td>0.70</td>\n",
       "      <td>0.00</td>\n",
       "      <td>1.9</td>\n",
       "      <td>0.076</td>\n",
       "      <td>11.0</td>\n",
       "      <td>34.0</td>\n",
       "      <td>0.9978</td>\n",
       "      <td>3.51</td>\n",
       "      <td>0.56</td>\n",
       "      <td>9.4</td>\n",
       "      <td>5</td>\n",
       "    </tr>\n",
       "    <tr>\n",
       "      <th>1</th>\n",
       "      <td>7.8</td>\n",
       "      <td>0.88</td>\n",
       "      <td>0.00</td>\n",
       "      <td>2.6</td>\n",
       "      <td>0.098</td>\n",
       "      <td>25.0</td>\n",
       "      <td>67.0</td>\n",
       "      <td>0.9968</td>\n",
       "      <td>3.20</td>\n",
       "      <td>0.68</td>\n",
       "      <td>9.8</td>\n",
       "      <td>5</td>\n",
       "    </tr>\n",
       "    <tr>\n",
       "      <th>2</th>\n",
       "      <td>7.8</td>\n",
       "      <td>0.76</td>\n",
       "      <td>0.04</td>\n",
       "      <td>2.3</td>\n",
       "      <td>0.092</td>\n",
       "      <td>15.0</td>\n",
       "      <td>54.0</td>\n",
       "      <td>0.9970</td>\n",
       "      <td>3.26</td>\n",
       "      <td>0.65</td>\n",
       "      <td>9.8</td>\n",
       "      <td>5</td>\n",
       "    </tr>\n",
       "    <tr>\n",
       "      <th>3</th>\n",
       "      <td>11.2</td>\n",
       "      <td>0.28</td>\n",
       "      <td>0.56</td>\n",
       "      <td>1.9</td>\n",
       "      <td>0.075</td>\n",
       "      <td>17.0</td>\n",
       "      <td>60.0</td>\n",
       "      <td>0.9980</td>\n",
       "      <td>3.16</td>\n",
       "      <td>0.58</td>\n",
       "      <td>9.8</td>\n",
       "      <td>6</td>\n",
       "    </tr>\n",
       "    <tr>\n",
       "      <th>4</th>\n",
       "      <td>7.4</td>\n",
       "      <td>0.70</td>\n",
       "      <td>0.00</td>\n",
       "      <td>1.9</td>\n",
       "      <td>0.076</td>\n",
       "      <td>11.0</td>\n",
       "      <td>34.0</td>\n",
       "      <td>0.9978</td>\n",
       "      <td>3.51</td>\n",
       "      <td>0.56</td>\n",
       "      <td>9.4</td>\n",
       "      <td>5</td>\n",
       "    </tr>\n",
       "  </tbody>\n",
       "</table>\n",
       "</div>"
      ],
      "text/plain": [
       "   fixed acidity  volatile acidity  citric acid  residual sugar  chlorides  \\\n",
       "0            7.4              0.70         0.00             1.9      0.076   \n",
       "1            7.8              0.88         0.00             2.6      0.098   \n",
       "2            7.8              0.76         0.04             2.3      0.092   \n",
       "3           11.2              0.28         0.56             1.9      0.075   \n",
       "4            7.4              0.70         0.00             1.9      0.076   \n",
       "\n",
       "   free sulfur dioxide  total sulfur dioxide  density    pH  sulphates  \\\n",
       "0                 11.0                  34.0   0.9978  3.51       0.56   \n",
       "1                 25.0                  67.0   0.9968  3.20       0.68   \n",
       "2                 15.0                  54.0   0.9970  3.26       0.65   \n",
       "3                 17.0                  60.0   0.9980  3.16       0.58   \n",
       "4                 11.0                  34.0   0.9978  3.51       0.56   \n",
       "\n",
       "   alcohol  quality  \n",
       "0      9.4        5  \n",
       "1      9.8        5  \n",
       "2      9.8        5  \n",
       "3      9.8        6  \n",
       "4      9.4        5  "
      ]
     },
     "execution_count": 113,
     "metadata": {},
     "output_type": "execute_result"
    }
   ],
   "source": [
    "# Load the Wine Quality dataset\n",
    "url = \"https://archive.ics.uci.edu/ml/machine-learning-databases/wine-quality/winequality-red.csv\"\n",
    "wine_data = pd.read_csv(url, sep=\";\")\n",
    "\n",
    "# Display the first few rows of the dataset\n",
    "wine_data.head()"
   ]
  },
  {
   "cell_type": "code",
   "execution_count": null,
   "id": "0582dfe9",
   "metadata": {},
   "outputs": [],
   "source": [
    "# YOUR CODE HERE!"
   ]
  },
  {
   "cell_type": "markdown",
   "id": "c16a9388",
   "metadata": {},
   "source": [
    "#### <font color='#fc7202'> Task 8: </font>  \n",
    "Explore the dataset by plotting the distributions of all numeric variables.  \n",
    "Where relevant, display the distributions as **histograms** to get a sense of their shape (e.g., symmetric, skewed, multimodal).\n",
    "\n",
    "> *Hints:*  \n",
    "> - You can loop through the numeric columns and use **`sns.histplot()`** or **`plt.hist()`** to create the plots.  \n",
    "> - Pay attention to variables that might have very different ranges or units — these can affect how the histogram looks.  \n",
    "> - Try adjusting the number of bins to make the shape clearer.\n"
   ]
  },
  {
   "cell_type": "code",
   "execution_count": 115,
   "id": "179807de",
   "metadata": {},
   "outputs": [],
   "source": [
    "# YOUR CODE HERE!"
   ]
  },
  {
   "cell_type": "markdown",
   "id": "e0aa04b5",
   "metadata": {},
   "source": [
    "#### <font color='#fc7202'> Task 9: </font>  \n",
    "For each numeric variable, calculate the **skewness** and **kurtosis** to quantify the shape of its distribution.  \n",
    "Compare these numerical values with your histograms from the previous step.\n",
    "\n",
    "> *Hints:*  \n",
    "> - You can use the built-in **`.skew()`** and **`.kurt()`** methods in `pandas` to compute these statistics.  \n",
    "> - Alternatively, the **`scipy.stats`** package provides the functions **`skew()`** and **`kurtosis()`** for the same purpose.  \n",
    "> - **Skewness** close to 0 suggests symmetry, while positive or negative values indicate right or left skew.  \n",
    "> - **Excess kurtosis** close to 0 (as in a normal distribution) indicates typical tail thickness, whereas large positive values suggest heavy tails.  \n",
    "\n"
   ]
  },
  {
   "cell_type": "code",
   "execution_count": null,
   "id": "f42719af",
   "metadata": {},
   "outputs": [],
   "source": [
    "# YOUR CODE HERE!"
   ]
  },
  {
   "cell_type": "markdown",
   "id": "d1e079e9",
   "metadata": {},
   "source": [
    "#### Q-Q Plots (Quantile-Quantile Plots)\n",
    "\n",
    "A **Q-Q plot** is a graphical method to assess whether the distribution of your data is similar to a **theoretical distribution**, most often the **normal distribution**.\n",
    "\n",
    "The idea is simple:\n",
    "- The data are first **sorted** and transformed into **quantiles** (percentile positions).  \n",
    "- These quantiles are then plotted against the corresponding quantiles of the theoretical distribution.  \n",
    "- If the data follow that theoretical distribution closely, the points will lie roughly along a **straight line**.\n",
    "\n",
    "Q-Q plots therefore provide a quick, visual way to check whether a variable is approximately **normally distributed** (complementing the skewness and kurtosis values you just calculated).\n"
   ]
  },
  {
   "cell_type": "markdown",
   "id": "44552eaf",
   "metadata": {},
   "source": [
    "#### <font color='#fc7202'> Task 10: </font>  \n",
    "Choose **two numeric variables** from the wine dataset and create **Q–Q plots** to visually assess whether they follow a normal distribution.\n",
    "\n",
    "> *Hints:*  \n",
    "> - You can use the function **`scipy.stats.probplot()`** to generate Q–Q plots.  \n",
    "> - Try selecting one variable that looks approximately normal and another that appeared skewed in your histograms.\n"
   ]
  },
  {
   "cell_type": "code",
   "execution_count": null,
   "id": "523694c7",
   "metadata": {},
   "outputs": [],
   "source": [
    "# YOUR CODE HERE!"
   ]
  },
  {
   "cell_type": "markdown",
   "id": "44be2818",
   "metadata": {},
   "source": [
    "#### Testing for (Approximate) Normality\n",
    "\n",
    "We can formally assess whether a variable is consistent with a normal distribution using statistical tests.\n",
    "\n",
    "- **Null hypothesis (H₀).** The data were drawn from a normal distribution (with some mean and variance).\n",
    "\n",
    "- ***p*-value.** The probability, assuming H₀ is true, of obtaining results at least as extreme as what we observed. A small *p*-value gives evidence against H₀.\n",
    "\n",
    "Two useful tests:\n",
    "\n",
    "1) **Shapiro-Wilk test** (`scipy.stats.shapiro`)  \n",
    "   Designed for normality. Powerful for small to moderate sample sizes. Widely used.\n",
    "\n",
    "2) **Kolmogorov-Smirnov (KS) test** against normal (`scipy.stats.kstest`)  \n",
    "   Compares the empirical distribution function to a specified theoretical cumulative distribution function (CDF).\n",
    "\n",
    "**How to read the result?**  \n",
    "If the *p*-value is below your chosen significance level (often 0.05), you reject H₀ and conclude the data deviate from normality. If the *p*-value is larger, you do not reject H₀ (the data are consistent with normality at that level).\n"
   ]
  },
  {
   "cell_type": "markdown",
   "id": "a1642608",
   "metadata": {},
   "source": [
    "#### <font color='#fc7202'> Task 11: </font>  \n",
    "Apply the **Shapiro-Wilk** and **KS** tests to the same two variables you selected earlier.  \n",
    "Compare the *p*-values with your histograms and Q-Q plots.  \n",
    "Do the test results align with your visual assessments?"
   ]
  },
  {
   "cell_type": "code",
   "execution_count": null,
   "id": "98655405",
   "metadata": {},
   "outputs": [],
   "source": [
    "# YOUR CODE HERE!"
   ]
  },
  {
   "cell_type": "markdown",
   "id": "0a8f7725",
   "metadata": {},
   "source": [
    "#### What If the Data Are Not Normally Distributed?\n",
    "\n",
    "In environmental datasets, approximate normality is **rarely guaranteed**.  \n",
    "Many environmental variables have natural limits or arise from multiplicative processes, which makes them **skewed** rather than symmetric.\n",
    "\n",
    "For example:\n",
    "- Variables that **cannot take negative values** (for example concentrations) often show a **log-normal** pattern.  \n",
    "- **Waiting times** or **time-to-event** measurements are commonly **exponentially** distributed.  \n",
    "- **Durations**, **failure times**, or **life spans** may follow a **Weibull** distribution, which is flexible enough to describe both increasing and decreasing failure rates.\n",
    "\n",
    "Below is a simple illustration of these theoretical shapes.  \n",
    "Use it as a visual guide when considering which type of distribution might best represent your variables.\n",
    "\n"
   ]
  },
  {
   "cell_type": "code",
   "execution_count": null,
   "id": "87cbf546",
   "metadata": {},
   "outputs": [
    {
     "data": {
      "image/png": "[encoded data removed]",
      "text/plain": [
       "<Figure size 700x450 with 1 Axes>"
      ]
     },
     "metadata": {},
     "output_type": "display_data"
    }
   ],
   "source": [
    "from scipy.stats import lognorm, expon, weibull_min\n",
    "\n",
    "x = np.linspace(0.001, 10, 1000)\n",
    "\n",
    "# Example parameter choices (illustrative)\n",
    "# Lognormal: shape = sigma, scale = exp(mu)\n",
    "ln_shape, ln_mu = 0.6, 0.0\n",
    "ln_scale = np.exp(ln_mu)\n",
    "\n",
    "# Exponential: scale = 1/lambda\n",
    "exp_scale = 1.0\n",
    "\n",
    "# Weibull: c (shape), scale\n",
    "wb_shape, wb_scale = 1.5, 2.0\n",
    "\n",
    "plt.figure(figsize=(7, 4.5))\n",
    "plt.plot(x, lognorm.pdf(x, s=ln_shape, scale=ln_scale), label='Lognormal (σ=0.6)', color='#fc7202')\n",
    "plt.plot(x, expon.pdf(x, scale=exp_scale), label='Exponential (λ=1)', color='#184445')\n",
    "plt.plot(x, weibull_min.pdf(x, c=wb_shape, scale=wb_scale), label='Weibull (k=1.5)', color='#4a90e2')\n",
    "plt.xlabel('x')\n",
    "plt.ylabel('Density')\n",
    "plt.legend()\n",
    "plt.show()\n"
   ]
  },
  {
   "cell_type": "markdown",
   "id": "f8f1a71f",
   "metadata": {},
   "source": [
    "#### <font color='#fc7202'> Task 12 (thinking): </font>  \n",
    "Looking back at your histograms and Q–Q plots, does any variable appear to follow a **log-normal**, **exponential**, or **Weibull**-like distribution?  \n"
   ]
  },
  {
   "cell_type": "markdown",
   "id": "e203abc0",
   "metadata": {},
   "source": [
    "### Transformations toward Normality\n",
    "\n",
    "If a variable appears **log-normal**, taking logarithms often produces a variable that is closer to normal.  \n",
    "This can stabilize variance, reduce skewness, and make residuals behave more like those assumed by parametric methods.\n",
    "\n",
    "Let us test this idea on one variable that looks log-normal."
   ]
  },
  {
   "cell_type": "code",
   "execution_count": null,
   "id": "aa0e7ccb",
   "metadata": {},
   "outputs": [],
   "source": [
    "# OUR CODE HERE!"
   ]
  }
 ],
 "metadata": {
  "colab": {
   "collapsed_sections": [],
   "provenance": []
  },
  "kernelspec": {
   "display_name": "base",
   "language": "python",
   "name": "python3"
  },
  "language_info": {
   "codemirror_mode": {
    "name": "ipython",
    "version": 3
   },
   "file_extension": ".py",
   "mimetype": "text/x-python",
   "name": "python",
   "nbconvert_exporter": "python",
   "pygments_lexer": "ipython3",
   "version": "3.13.5"
  }
 },
 "nbformat": 4,
 "nbformat_minor": 5
}
