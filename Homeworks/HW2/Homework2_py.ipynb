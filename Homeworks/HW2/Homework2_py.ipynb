{
 "cells": [
  {
   "cell_type": "markdown",
   "id": "9ea433f2",
   "metadata": {},
   "source": [
    "# Homework 2: Hypothesis Testing\n",
    "\n",
    "**File name:**  \n",
    "> Please save and submit your work as  \n",
    "> **`Homework2_py_Firstname_Lastname.ipynb`**\\\n",
    "> Please submit only the `.ipynb` file, unless otherwise stated.\\\n",
    "> The examiner will place your file into the appropriate environment where all required data files are available in the same directory.\n",
    "---\n",
    "\n",
    "**Before you start**\n",
    "- Record **how much time** the homework takes you in total.  \n",
    "  At the **end of the notebook** there is a cell where you can write the number of hours (for course development feedback).  \n",
    "\n",
    "---\n",
    "\n",
    "**General instructions**\n",
    "1. **Work individually.**  \n",
    "   You may **discuss ideas** with classmates, but **do not copy–paste** each other’s code.  \n",
    "   Each notebook must represent your own independent work.\n",
    "\n",
    "2. **Use of external materials and AI tools.**  \n",
    "   You may use course materials, documentation, examples, or quick help from sources such as Stack Overflow or ChatGPT.  \n",
    "   However, if you **heavily rely** on external material or AI-generated code (for example, by copying significant parts),  \n",
    "   please **cite the source**. There is **no need to cite** small pieces of help used only to understand or debug your code.\n",
    "\n",
    "3. **Do not delete notebook cells.**  \n",
    "   Please do **not remove any pre-existing cells**. Only add your own solutions in the designated places.  \n",
    "   If you accidentally delete a cell, use **`Edit → Undo Delete Cells`** to restore it.  \n",
    "   You may add extra cells if needed, but make sure every solution is placed **under the correct question or sub-question**.  \n",
    "   This structure helps us to evaluate your work efficiently and accurately.\n",
    "---\n",
    "\n",
    "**Packages and environment**\n",
    "\n",
    "All required packages are already imported for you in the **first code cell**.  \n",
    "If running that cell gives an error, remove the leading `#` from the corresponding installation line and run it again, e.g.:\n",
    "\n",
    "```python\n",
    "#!pip install pandas matplotlib scipy\n",
    "```\n",
    "You may use additional packages if needed, but:\n",
    "- Add their installation and import statements in a new code cell placed below the import cell.\n",
    "- This is the only additional cell you may modify (besides the solution and time-reporting cells).\n",
    "\n",
    ">*Plotting note*: The setup includes multiple plotting options (`pandas .plot`, `Matplotlib`, `seaborn`, and `Plotnine`). \\\n",
    "> Use one approach of your choice; you may remove or comment out imports you don’t need to keep the notebook tidy.\n",
    "---\n",
    "\n",
    "**Before submission**\n",
    "\n",
    "Before submitting your notebook, please **restart the kernel and run all cells from the beginning** to ensure the entire notebook executes without errors.\n",
    "This step guarantees that all results, figures, and outputs appear correctly when the notebook is evaluated.\n",
    "If a particular code cell causes an error that you cannot fix, comment out that part so that the notebook still runs fully."
   ]
  },
  {
   "cell_type": "markdown",
   "id": "1987b325",
   "metadata": {},
   "source": [
    "### Installing and Loading Packages"
   ]
  },
  {
   "cell_type": "code",
   "execution_count": 1,
   "id": "30bb1672",
   "metadata": {},
   "outputs": [],
   "source": [
    "#!pip install palmerpenguins\n",
    "#!pip install plotnine"
   ]
  },
  {
   "cell_type": "code",
   "execution_count": 42,
   "id": "ee78ae05",
   "metadata": {},
   "outputs": [],
   "source": [
    "import numpy as np                             # numerical computing: arrays, math functions, statistics\n",
    "import pandas as pd                            # data manipulation and analysis (tables, DataFrames)\n",
    "\n",
    "import matplotlib.pyplot as plt                # base plotting library for Python (low-level control)\n",
    "import seaborn as sns                          # high-level plotting library (statistical graphics, built on Matplotlib)\n",
    "#import plotnine as p9                          # plotting library with syntax similar to ggplot2\n",
    "\n",
    "from scipy import stats                        # statistical functions\n",
    "from scipy.stats import ttest_1samp, ttest_ind, ttest_rel, f, shapiro, levene, wilcoxon, mannwhitneyu, f_oneway, kruskal, tukey_hsd\n",
    "from outliers import smirnov_grubbs as grubbs\n",
    "import statsmodels.api as sm\n",
    "from statsmodels.formula.api import ols"
   ]
  },
  {
   "cell_type": "markdown",
   "id": "1fd0cde2",
   "metadata": {},
   "source": [
    "#### <font color='#fc7202'> Q1 (3 p): Lemming Grazing and Methane Fluxes in Arctic Tundra\n",
    "Since vegetation grazing by **brown lemmings** can alter plant biomass and soil conditions, it may also affect **methane fluxes (CH₄_Flux)** in Arctic tundra.  \n",
    "A long-term **exclosure vs. control** experiment in Arctic Alaska measured greenhouse-gas fluxes, soil temperature, and vegetation across **Dry / Moist (Mst) / Wet** land-cover types.\n",
    "\n",
    "You will analyze a subset stored in `hw2_data1.tsv`.\n",
    "\n",
    "| Variable | Description | Unit |\n",
    "|---|---|---|\n",
    "| `Plot` | Plot ID | – |\n",
    "| `LandCoverType` | *Dry*, *Mst* (= Moist), *Wet* | – |\n",
    "| `Lemmings` | *control* = grazing allowed; *exclusion* = no grazing | – |\n",
    "| `CH4_Flux` | Methane flux (positive = emission, negative = uptake) | mg C m⁻² day⁻¹ |\n",
    "| `C-CO2eq` | CO₂ equivalents | g C m⁻² day⁻¹ |\n",
    "| `GEE` | Gross ecosystem CO₂ exchange | g C m⁻² day⁻¹ |\n",
    "| `NEE` | Net ecosystem CO₂ exchange (negative = CO₂ uptake) | g C m⁻² day⁻¹ |\n",
    "| `SoilTemp_1` | Soil temperature at 1 cm depth | °C |\n",
    "| `SoilTemp_10` | Soil temperature at 10 cm depth | °C |\n",
    "| `NDVI` | Vegetation greenness | – |\n",
    "| `Albedo` | Short-wave surface reflectance | – |\n",
    "\n",
    "  \n",
    "Do methane fluxes (`CH4_Flux`) differ between plots open to lemming grazing (*control*) and plots where lemmings were excluded (*exclusion*)?\n",
    "\n",
    "1. **Load the dataset**  \n",
    "\n",
    "2. **Explore visually and describe with descriptve statistics**  \n",
    "   Plot `CH4_Flux` by treatment.  \n",
    "   In 2-3 sentences, describe center, spread, shape, and any potential outliers.  \n",
    "\n",
    "3. **State hypotheses**  \n",
    "   Choose your “typical” metric (**mean** or **median**) and justify it from the data features you observed.  \n",
    "   Use *α* = 0.05 unless you justify otherwise.\n",
    "\n",
    "4. **Pick the statistical test suitable for your hypothesis and check its assumptions**  \n",
    "   Explain **why** your chosen test matches your estimand and diagnostics.\n",
    "\n",
    "5. **Run the analysis and conclude**  \n",
    "   Report: test statistic, *p*-value  \n",
    "\n",
    "   In 2-3 sentences, answer the research question:  \n",
    "   Did lemming grazing **significantly alter methane fluxes** at the 95% confidence level?  "
   ]
  },
  {
   "cell_type": "markdown",
   "id": "c3b63b15",
   "metadata": {},
   "source": [
    "<font color='#00bf63'>*Your hypotheses here!*</font>"
   ]
  },
  {
   "cell_type": "code",
   "execution_count": 4,
   "id": "aaa12e1e",
   "metadata": {},
   "outputs": [],
   "source": [
    "# YOUR CODE HERE!"
   ]
  },
  {
   "cell_type": "markdown",
   "id": "86f8e0f0",
   "metadata": {},
   "source": [
    "<font color='#00bf63'>*Your answer here!*</font>"
   ]
  },
  {
   "cell_type": "markdown",
   "id": "d963f08f",
   "metadata": {},
   "source": [
    "#### <font color='#fc7202'> Q2 (5 p): Effect of Drought on Finch Beak Depth\n",
    "Suppose you want to study how birds adapt to a severe environmental change.\\\n",
    "In this case, you will examine the effect of a 6-year drought with very little rainfall on the beak depth of finches living on a small Pacific island.\\\n",
    "Before the drought, the average beak depth of finches on this island was 9.2 mm.\n",
    "\n",
    "After the drought, a new sample of finches was measured.\n",
    "Using these measurements, investigate whether the mean beak depth has changed compared to the pre-drought average of 9.2 mm.\n",
    "\n",
    "Use the dataset provided as a Python list in the cell below to perform your analysis.\n",
    "1. **Describe and visualize.**  \n",
    "   Compute descriptive statistics and make an informative plot(s).\n",
    "   In 2-3 sentences, describe center, spread, shape, and any potential outliers.\n",
    "\n",
    "2. **Formulate hypotheses and pick α.**  \n",
    "   State H₀ and H₁ relative and choose a significance level (default α = 0.05 unless you justify otherwise).\n",
    "\n",
    "3. **Choose the appropriate statistical test.**  \n",
    "   Decide whether you are testing a difference in **mean** or **median** and select a matching one-sample test. Briefly justify your choice.\n",
    "\n",
    "4. **If needed, clean the data (transparently).**  \n",
    "   Identify any questionable values and state whether you keep them, transform the data, or apply a robust method - in each case, justify briefly.\n",
    "\n",
    "5. **Check assumptions for your chosen test.**  \n",
    "   Provide minimal diagnostics (e.g., distributional shape/normality check) and comment on whether assumptions appear reasonable.\n",
    "\n",
    "6. **Perform the test and report clearly.**  \n",
    "   Report the test used, test statistic, *p*-value.  \n",
    "   Conclude in 2-3 sentences: did beak depth change relative to **9.2 mm** at your chosen α?\n",
    "\n",
    "</font>"
   ]
  },
  {
   "cell_type": "code",
   "execution_count": 21,
   "id": "e8ed25c9",
   "metadata": {},
   "outputs": [],
   "source": [
    "beak_depth_mm = [6.1, 6.8, 10.3, 10.8, 7.5, 9.8, 9.6, 7.2, 7.8, 9.9, 7.6, 9.7, 11.4, 8.3, 11.3, 10.8, 10.3, 14.5, 10.6, 10.8, 10.9, 11.1, 11.3, 11.2, 11.4, 11.2, 11.3, 11.1]"
   ]
  },
  {
   "cell_type": "markdown",
   "id": "c81def07",
   "metadata": {},
   "source": [
    "<font color='#00bf63'>*Your hypotheses here!*</font>"
   ]
  },
  {
   "cell_type": "code",
   "execution_count": 5,
   "id": "6220409f",
   "metadata": {},
   "outputs": [],
   "source": [
    "# YOUR CODE HERE!"
   ]
  },
  {
   "cell_type": "markdown",
   "id": "af81e254",
   "metadata": {},
   "source": [
    "<font color='#00bf63'>*Your answer here!*</font>"
   ]
  },
  {
   "cell_type": "markdown",
   "id": "8d301439",
   "metadata": {},
   "source": [
    "#### <font color='#fc7202'> Q3 (5 p): Regional Differences in Hedgehog Hibernation Duration\n",
    "\n",
    "Researchers radio-tagged *Erinaceus europaeus* in two U.S. regions (**north** and **south**) and tracked winter movements to measure **hibernation duration** (number of days not leaving the nest). Random samples were taken independently in each region.\n",
    "\n",
    "Do hedgehogs from the **northern** and **southern** regions differ in **hibernation duration** (days confined to the nest)?\n",
    "\n",
    "Use the DataFrame provided in the next cell: `nest_days`\n",
    "\n",
    "1. **Describe & visualize.**  \n",
    "   Summarize per region and plot the distributions. In 2-3 sentences, describe center, spread, shape, and any potential outliers.\n",
    "\n",
    "2. **Formulate hypotheses & choose *α.***  \n",
    "   Define H₀ and H₁, and state your significance level (α = 0.05 unless you justify otherwise). \n",
    "\n",
    "3. **Select a test & check assumptions.**  \n",
    "    Briefly justify your choice and comment on key assumptions.\n",
    "\n",
    "4. **Analyze & report.**  \n",
    "   Report the test statistic, *p*-value.\n",
    "\n",
    "5. **Conclude.**  \n",
    "    In 2-3 sentences, answer whether hibernation duration differs between the **north** and **south** regions at the 95% confidence level.  \n",
    "\n",
    "</font>"
   ]
  },
  {
   "cell_type": "code",
   "execution_count": 23,
   "id": "784c5d68",
   "metadata": {},
   "outputs": [],
   "source": [
    "nest_days = pd.DataFrame({'north_region': [95, 98, 99, 112, 103, 105, 106, 109, 110, 111, 112, 114, 95, 98, 103],\n",
    "                          'south_region': [90, 92, 94, 93, 95, 98, 100, 102, 103, 104, 98, 102, 99, np.nan, np.nan]})"
   ]
  },
  {
   "cell_type": "markdown",
   "id": "52938722",
   "metadata": {},
   "source": [
    "<font color='#00bf63'>*Your hypotheses here!*</font>"
   ]
  },
  {
   "cell_type": "code",
   "execution_count": 6,
   "id": "9cfe1660",
   "metadata": {},
   "outputs": [],
   "source": [
    "# YOUR CODE HERE!"
   ]
  },
  {
   "cell_type": "markdown",
   "id": "a26b9c30",
   "metadata": {},
   "source": [
    "<font color='#00bf63'>*Your answer here!*</font>"
   ]
  },
  {
   "cell_type": "markdown",
   "id": "8a0b744c",
   "metadata": {},
   "source": [
    "#### <font color='#fc7202'> Q4 (8 p): PFOS in Human Blood\n",
    "\n",
    "Perfluorooctane sulfonate (PFOS) is a persistent, bioaccumulative fluorinated compound formerly used in numerous industrial applications (e.g., Teflon-related manufacturing). PFOS is detectable in human blood worldwide, including Sweden.  \n",
    "You will analyze PFOS concentrations (ng/mL) measured in **2019** from **56 residents** of the Docentbacken neighborhood in Stockholm.\n",
    "\n",
    "Use the data provided in the file: `hw2_data2.tsv`\n",
    "\n",
    "1. **Describe & visualize.**  \n",
    "   Summarize PFOS (n, mean, SD, median, IQR, min-max) and visualize the data.  \n",
    "   In 2-3 sentences, describe center, spread, shape, and any potential outliers.\n",
    "\n",
    "2. **Check distribution and screen for outliers.**  \n",
    "   Test whether the PFOS data are approximately normally distributed using the **Shapiro-Wilk** and/or **Kolmogorov-Smirnov** tests.  \n",
    "   If the data deviate strongly from normality, consider possible approaches such as **data transformation** or using a **non-parametric** test.  \n",
    "   Run **Grubbs’ test** once to check for a potential outlier (if you find one, do not remove it). Report the statistic and *p*-value, and briefly comment on what you find.\n",
    "\n",
    "3. **Formulate hypotheses & choose *α*.**  \n",
    "   Compare Docentbacken levels to **4.5 ng/mL** (national reference).  \n",
    "   State H₀ and H₁ and your significance level (*α* = 0.05 unless you justify otherwise). \n",
    "\n",
    "4. **Analyze & report.**  \n",
    "   Based on your previous results, choose an appropriate statistical test to compare the PFOS concentrations at Docentbacken with the national reference value of 4.5 ng/mL (representing the geometric mean for Sweden).  \n",
    "   Justify your choice depending on whether the data appear normally distributed or not.  \n",
    "   Report the test statistic, *p*-value.\n",
    "\n",
    "5. **Conclude.**  \n",
    "   In 2-3 sentences, state whether PFOS levels at Docentbacken match **4.5 ng/mL** at the 95% confidence level.  \n",
    "\n",
    "</font>"
   ]
  },
  {
   "cell_type": "markdown",
   "id": "c83b14d1",
   "metadata": {},
   "source": [
    "<font color='#00bf63'>*Your hypotheses here!*</font>"
   ]
  },
  {
   "cell_type": "code",
   "execution_count": null,
   "id": "dab26d42",
   "metadata": {},
   "outputs": [],
   "source": [
    "# YOUR CODE HERE!"
   ]
  },
  {
   "cell_type": "markdown",
   "id": "cd92991c",
   "metadata": {},
   "source": [
    "<font color='#00bf63'>*Your answer here!*</font>"
   ]
  },
  {
   "cell_type": "markdown",
   "id": "b55865fb",
   "metadata": {},
   "source": [
    "#### <font color='#fc7202'> Q5 (10 p): Effect of Urbanization on Insect Species Richness \n",
    "\n",
    "Biodiversity describes the variety and abundance of living organisms, including plants, fungi, and animals, within an ecosystem.\n",
    "Human activities such as habitat loss, climate change, and pollution can lead to biodiversity loss by reducing species abundance or causing local extinctions.\n",
    "\n",
    "Urban environments can also affect biodiversity. Some insect species struggle to persist in cities due to reduced native vegetation and limited water availability, while others may thrive in residential areas that offer green spaces.\n",
    "You will now explore whether insect **species richness** (the number of different insect species) differs among urban environments with varying degrees of development in the Los Angeles region.\n",
    "\n",
    "Use the dataset provided in the file: `hw2_data3.tsv`\n",
    "\n",
    "| Variable                                                 | Description                                                | Unit                 |\n",
    "| -------------------------------------------------------- | ---------------------------------------------------------- | -------------------- |\n",
    "| `Sample`                                                 | Sampling site ID                                           | –                    |\n",
    "| `Site`                                                   | Sampling location name                                     | –                    |\n",
    "| `Trap Days`                                              | Number of days traps were active                           | days                 |\n",
    "| `Month`                                                  | Month of sampling                                          | –                    |\n",
    "| `Season`                                                 | Sampling season                                            | –                    |\n",
    "| `Urban Type`                                             | Numeric code for level of urbanization                     | –                    |\n",
    "| `Temp Max`, `Temp Min`, `Temp Mean`                      | Maximum, minimum, and mean air temperature during sampling | °C                   |\n",
    "| `Rh Max`, `Rh Min`, `Rh Mean`                            | Maximum, minimum, and mean relative humidity               | %                    |\n",
    "| `Photoperiod`                                            | Average daily daylight hours                               | hours                |\n",
    "| `Lawn`, `Compost`, `Mulch`, `Drought`, `Native`, `Water` | Presence/absence of local habitat features                 | categorical (Yes/No) |\n",
    "| `Richness`                                               | Insect species richness (number of species recorded)       | count                |\n",
    "\n",
    "A separate key (provided below) links numeric `Urban Type` codes to the descriptive categories (`Dense`, `Developed`, `Suburban`, `Natural`).\n",
    "You will need to use this information to correctly identify which observations belong to each category before analyzing the data\n",
    "\n",
    "\n",
    "1. **Load the dataset.**\\\n",
    "   Review all variables and use the provided key to classify sampling sites into the correct urban environment categories.\n",
    "\n",
    "2. **Explore visually and describe with descriptive statistics.**  \n",
    "   Explore species richness across the different urban environments. In 2-3 sentences, describe the main patterns in the data.\n",
    "\n",
    "3. **State hypotheses.**  \n",
    "   State your null and alternative hypotheses for whether insect species richness differs among urban environments.\n",
    "   Choose an appropriate significance level (*α*).\n",
    "\n",
    "4. **Pick the appropriate statistical test and check its assumptions.**\\\n",
    "   Choose a suitable test to evaluate whether insect species richness differs among the urban environments.\n",
    "   Briefly justify your choice and check that the assumptions of your selected test are reasonably met.\n",
    "   If your test indicates significant differences, perform an appropriate **post hoc comparison** to explore which groups differ from each other.\n",
    "   Report the main test results, including the test statistic, and *p*-value.\n",
    "\n",
    "5. **Conclude.**  \n",
    "   Summarize your findings in 2-3 sentences.\n",
    "   Discuss whether insect species richness appears to vary with the degree of urbanization, and interpret your results in context.\n",
    "   Use additional columns (e.g., temperature, humidity, vegetation, water availability) to support your interpretation and suggest possible ecological explanations for the observed differences.\n",
    "\n",
    "</font> \n"
   ]
  },
  {
   "cell_type": "code",
   "execution_count": 40,
   "id": "49e17b3b",
   "metadata": {},
   "outputs": [],
   "source": [
    "urban_names = {'1': 'Natural',\n",
    "               '3': 'Suburban',\n",
    "               '8': 'Developed',\n",
    "               '9': 'Dense'}"
   ]
  },
  {
   "cell_type": "markdown",
   "id": "a7add70a",
   "metadata": {},
   "source": [
    "<font color='#00bf63'>*Your hypotheses here!*</font>"
   ]
  },
  {
   "cell_type": "code",
   "execution_count": null,
   "id": "b9c87305",
   "metadata": {},
   "outputs": [],
   "source": [
    "# YOUR CODE HERE!"
   ]
  },
  {
   "cell_type": "markdown",
   "id": "9832cd31",
   "metadata": {},
   "source": [
    "<font color='#00bf63'>*Your answer here!*</font>"
   ]
  },
  {
   "cell_type": "markdown",
   "id": "05cf3a36",
   "metadata": {},
   "source": [
    "#### <font color='#fc7202'> Q6 (10 p): Interlaboratory Comparison of PAH Measurements\n",
    "\n",
    "Four laboratories (**Lab 1-4**) analyzed identical PAH-contaminated water samples using five analytical methods (**A-E**).  \n",
    "The goal was to assess whether results are consistent across laboratories and methods.  \n",
    "\n",
    "|      |  A   |   B   |   C   |   D   |   E   |\n",
    "|:----:|:----:|:-----:|:-----:|:-----:|:-----:|\n",
    "|Lab 1| 585.2| 567.9 | 559.2 | 580.9 | 550.5 |\n",
    "|Lab 2| 586.3| 541.9 | 580.9 | 598.2 | 559.2 |\n",
    "|Lab 3| 615.5| 598.2 | 580.9 | 585.2 | 554.9 |\n",
    "|Lab 4| 606.9| 550.5 | 572.2 | 567.9 | 585.2 |\n",
    "\n",
    "1. **Load the dataset.**  \n",
    "   Import `hw2_data4.tsv` and reshape the data into a tidy (long) format with columns: `Lab`, `Method`, and `PAH`.\n",
    "\n",
    "2. **Explore visually and describe with descriptive statistics.**  \n",
    "   Visualize **PAH concentrations** by **Lab** and **Method**.  \n",
    "   In 2-3 sentences, describe the main patterns in the data.\n",
    "\n",
    "3. **State hypotheses.**  \n",
    "   Formulate null and alternative hypotheses for whether mean PAH concentrations differ among **labs** and among **methods**.  \n",
    "   Choose an appropriate significance level (*α*).\n",
    "\n",
    "4. **Pick the appropriate statistical test and check its assumptions.**  \n",
    "   Choose a suitable test or model to evaluate whether **Lab**, **Method**, or both influence PAH concentration.  \n",
    "   Briefly justify your choice and check that the assumptions of your selected test are reasonably met.  \n",
    "   If significant differences are detected, perform an appropriate **post hoc comparison** to identify which groups differ.  \n",
    "   Report the test statistic(s), and *p*-value.\n",
    "\n",
    "5. **Conclude.**  \n",
    "   Summarize your findings in 2-3 sentences.  \n",
    "   State whether PAH concentrations vary among labs and/or methods at the 95% confidence level.  \n",
    "   Briefly discuss what your results might imply for inter-laboratory consistency and method standardization in water quality surveys.\n",
    "\n",
    "</font>  "
   ]
  },
  {
   "cell_type": "markdown",
   "id": "ad932a25",
   "metadata": {},
   "source": [
    "<font color='#00bf63'>*Your hypotheses here!*</font>"
   ]
  },
  {
   "cell_type": "code",
   "execution_count": null,
   "id": "f4e6932c",
   "metadata": {},
   "outputs": [],
   "source": [
    "# YOUR CODE HERE!"
   ]
  },
  {
   "cell_type": "markdown",
   "id": "efac2020",
   "metadata": {},
   "source": [
    "<font color='#00bf63'>*Your answer here!*</font>"
   ]
  },
  {
   "cell_type": "markdown",
   "id": "dd0c777e",
   "metadata": {},
   "source": [
    "## Before you submit\n",
    "\n",
    "**Don’t forget:**\n",
    "\n",
    "Please restart the kernel and run all cells from top to bottom to ensure your notebook works correctly.\n",
    "1. In Jupyter Notebook or JupyterLab:\n",
    "   Go to the menu bar and select:\n",
    "   - `Kernel → Restart & Run All`\n",
    "2. In Visual Studio Code (VS Code):\n",
    "   - Click the `Restart Kernel` button `(↻)` (on the toolbar).\n",
    "   - Then click `Run All` `(▶▶)` to execute all cells in order.\n",
    "Make sure the notebook runs **end-to-end without errors**.\\\n",
    "If a cell still produces an error that you can’t resolve, simply **comment out that section** so the remaining cells can execute without interruption.\n",
    "\n",
    "**Time spent**\n",
    "\n",
    "Please record roughly how long you worked on this assignment:\n",
    "\n"
   ]
  },
  {
   "cell_type": "markdown",
   "id": "9ff4bf38",
   "metadata": {},
   "source": [
    "<font color='#00bf63'>*Total time spent: XXXXX h*</font>"
   ]
  },
  {
   "cell_type": "markdown",
   "id": "b230fe77",
   "metadata": {},
   "source": [
    "**Comments (optional feedback)**\n",
    "\n",
    "Here, please, leave your comments regarding the homework, possibly answering the following questions:\n",
    "- Was it too hard/easy for you?\n",
    "- What would you suggest to add or remove?\n",
    "- Anything else you would like to tell us?"
   ]
  },
  {
   "cell_type": "markdown",
   "id": "1bcec6b7",
   "metadata": {},
   "source": [
    "<font color='#00bf63'>*Your feedback*</font>"
   ]
  },
  {
   "cell_type": "markdown",
   "id": "ed8040bd",
   "metadata": {},
   "source": [
    "Excellent work making it all the way through!"
   ]
  }
 ],
 "metadata": {
  "kernelspec": {
   "display_name": "base",
   "language": "python",
   "name": "python3"
  },
  "language_info": {
   "codemirror_mode": {
    "name": "ipython",
    "version": 3
   },
   "file_extension": ".py",
   "mimetype": "text/x-python",
   "name": "python",
   "nbconvert_exporter": "python",
   "pygments_lexer": "ipython3",
   "version": "3.13.5"
  }
 },
 "nbformat": 4,
 "nbformat_minor": 5
}
