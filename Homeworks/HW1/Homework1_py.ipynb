{
 "cells": [
  {
   "cell_type": "markdown",
   "id": "9ea433f2",
   "metadata": {},
   "source": [
    "# Homework 1: Exploratory Data Analysis and Statistical Thinking\n",
    "\n",
    "**File name:**  \n",
    "> Please save and submit your work as  \n",
    "> **`Homework1_py_Firstname_Lastname.ipynb`**\\\n",
    "> Please submit only the `.ipynb` file, unless otherwise stated.\\\n",
    "> The examiner will place your file into the appropriate environment where all required data files are available in the same directory.\n",
    "---\n",
    "\n",
    "**Before you start**\n",
    "- Record **how much time** the homework takes you in total.  \n",
    "  At the **end of the notebook** there is a cell where you can write the number of hours (for course development feedback).  \n",
    "\n",
    "---\n",
    "\n",
    "**General instructions**\n",
    "1. **Work individually.**  \n",
    "   You may **discuss ideas** with classmates, but **do not copy–paste** each other’s code.  \n",
    "   Each notebook must represent your own independent work.\n",
    "\n",
    "2. **Use of external materials and AI tools.**  \n",
    "   You may use course materials, documentation, examples, or quick help from sources such as Stack Overflow or ChatGPT.  \n",
    "   However, if you **heavily rely** on external material or AI-generated code (for example, by copying significant parts),  \n",
    "   please **cite the source**. There is **no need to cite** small pieces of help used only to understand or debug your code.\n",
    "\n",
    "3. **Do not delete notebook cells.**  \n",
    "   Please do **not remove any pre-existing cells**. Only add your own solutions in the designated places.  \n",
    "   If you accidentally delete a cell, use **`Edit → Undo Delete Cells`** to restore it.  \n",
    "   You may add extra cells if needed, but make sure every solution is placed **under the correct question or sub-question**.  \n",
    "   This structure helps us to evaluate your work efficiently and accurately.\n",
    "---\n",
    "\n",
    "**Packages and environment**\n",
    "\n",
    "All required packages are already imported for you in the **first code cell**.  \n",
    "If running that cell gives an error, remove the leading `#` from the corresponding installation line and run it again, e.g.:\n",
    "\n",
    "```python\n",
    "#!pip install pandas matplotlib scipy\n",
    "```\n",
    "You may use additional packages if needed, but:\n",
    "- Add their installation and import statements in a new code cell placed below the import cell.\n",
    "- This is the only additional cell you may modify (besides the solution and time-reporting cells).\n",
    "\n",
    ">*Plotting note*: The setup includes multiple plotting options (`pandas .plot`, `Matplotlib`, `seaborn`, and `Plotnine`). \\\n",
    "> Use one approach of your choice; you may remove or comment out imports you don’t need to keep the notebook tidy.\n",
    "---\n",
    "\n",
    "**Before submission**\n",
    "\n",
    "Before submitting your notebook, please **restart the kernel and run all cells from the beginning** to ensure the entire notebook executes without errors.\n",
    "This step guarantees that all results, figures, and outputs appear correctly when the notebook is evaluated.\n",
    "If a particular code cell causes an error that you cannot fix, comment out that part so that the notebook still runs fully."
   ]
  },
  {
   "cell_type": "markdown",
   "id": "1987b325",
   "metadata": {},
   "source": [
    "### Installing and Loading Packages"
   ]
  },
  {
   "cell_type": "code",
   "execution_count": 1,
   "id": "30bb1672",
   "metadata": {},
   "outputs": [],
   "source": [
    "#!pip install palmerpenguins\n",
    "#!pip install plotnine"
   ]
  },
  {
   "cell_type": "code",
   "execution_count": 2,
   "id": "ee78ae05",
   "metadata": {},
   "outputs": [],
   "source": [
    "import numpy as np                             # numerical computing: arrays, math functions, statistics\n",
    "import pandas as pd                            # data manipulation and analysis (tables, DataFrames)\n",
    "\n",
    "import matplotlib.pyplot as plt                # base plotting library for Python (low-level control)\n",
    "import seaborn as sns                          # high-level plotting library (statistical graphics, built on Matplotlib)\n",
    "#import plotnine as p9                          # plotting library with syntax similar to ggplot2\n",
    "\n",
    "from scipy import stats                        # statistical functions\n",
    "\n",
    "from palmerpenguins import load_penguins       # function to load the Palmer Penguins dataset"
   ]
  },
  {
   "cell_type": "markdown",
   "id": "dc6e3f19",
   "metadata": {},
   "source": [
    "## Part I: Exploring the Palmer Penguins Dataset\n",
    "\n",
    "In this part you will work with the **Palmer Penguins** dataset — real measurements of adult foraging penguins from the Palmer Archipelago, Antarctica. The data include species labels and several morphological traits commonly used in ecological studies.\n",
    "\n",
    "**Citation:**  \n",
    "Horst, A. M., Hill, A. P., & Gorman, K. B. (2020). *palmerpenguins: Palmer Archipelago (Antarctica) penguin data.* Data collected by Dr. Kristen Gorman and the Palmer Station LTER. (Original dataset made available via Palmer Station LTER; R/Python package “palmerpenguins” for convenient access.)\n",
    "\n",
    "\n",
    "#### Load the data\n",
    "\n",
    "We’ve installed the package and imported the loader for you. Run the cell below to create a DataFrame named `penguins`:"
   ]
  },
  {
   "cell_type": "code",
   "execution_count": 3,
   "id": "3cb567e0",
   "metadata": {},
   "outputs": [],
   "source": [
    "# Load the penguins dataset\n",
    "penguins = load_penguins()"
   ]
  },
  {
   "cell_type": "markdown",
   "id": "1fd0cde2",
   "metadata": {},
   "source": [
    "#### <font color='#fc7202'> Q1 (1 p): Describe the dataset:\n",
    "1. Report how many observations and variables the dataset contains.\n",
    "2. List each variable, its data type and (when applicable) its units.\n",
    "3. For each variable, report how many missing values there are.\n",
    "\n",
    "> *Hint:* Recall from the workshop how to get a quick pandas DataFrame overview. </font>"
   ]
  },
  {
   "cell_type": "code",
   "execution_count": 4,
   "id": "aaa12e1e",
   "metadata": {},
   "outputs": [],
   "source": [
    "# YOUR CODE HERE!"
   ]
  },
  {
   "cell_type": "markdown",
   "id": "86f8e0f0",
   "metadata": {},
   "source": [
    "<font color='#00bf63'>*Your answer here!*</font>"
   ]
  },
  {
   "cell_type": "markdown",
   "id": "d963f08f",
   "metadata": {},
   "source": [
    "#### <font color='#fc7202'> Q2 (3 p): Answer the following questions:\n",
    "1. Which island has the most observations? Report the count and percentage of total.\n",
    "2. Which species occur on which islands? Provide a species × island summary (include row/column totals).\n",
    "3. How are females and males distributed overall and by species? Report counts and percentages, include a suitable comparative plot.\n",
    "4. How many penguins (count and %) have body mass > 5000 g; which species do these penguins belong to (report counts/percentages by species); and in which year was the heaviest penguin observed (also report its species, island, sex, and body mass)?\n",
    "6. List the top 5 lightest penguins (ties allowed), showing only the columns: `species`, `island`, `sex`, `body_mass_g`.\n",
    "7. For every species that occurs on multiple islands, calculate the mean `flipper_length_mm` for each island and briefly compare the island means.\n",
    "\n",
    "If there is any missing data, please describe how you take it into account.\n",
    "\n",
    "> *Hint*: Consider `pandas.crosstab() `and `.value_counts(...)`.\n",
    "</font>"
   ]
  },
  {
   "cell_type": "code",
   "execution_count": 5,
   "id": "6220409f",
   "metadata": {},
   "outputs": [],
   "source": [
    "# YOUR CODE HERE!"
   ]
  },
  {
   "cell_type": "markdown",
   "id": "af81e254",
   "metadata": {},
   "source": [
    "<font color='#00bf63'>*Your answer here!*</font>"
   ]
  },
  {
   "cell_type": "markdown",
   "id": "8d301439",
   "metadata": {},
   "source": [
    "#### <font color='#fc7202'> Q3 (5 p): Distributions and summary statistics\n",
    "\n",
    "1. Create suitable plots to show the distribution of each numeric variable, applying your judgment - omit plots or summaries that are not meaningful for a given variable and briefly state why. For variables where it is appropriate, compute and report the mean, median, and standard deviation, then write 1-2 sentences per variable explaining how these summaries align with the observed distribution.\n",
    "\n",
    "2. Choose one numeric variable and visualize its distribution by species. For each group, report mean, median, standard deviation, and coefficient of variation. Briefly interpret the differences and relate them to the plot(s).\n",
    "\n",
    "3. Compute group-wise sample skewness and excess kurtosis for the same variable as in (2); report the sign and magnitude of skewness, and classify kurtosis as leptokurtic, mesokurtic, or platykurtic relative to the normal distribution. Explain whether these metrics align with your visual impression.\n",
    "\n",
    "> *Hints:*\n",
    "> - Skewness/kurtosis: check functions like `Series.skew()`, `Series.kurt()` or `scipy.stats.skew`, `scipy.stats.kurtosis`.\n",
    "> - Be explicit about missing-data handling.\n",
    "\n",
    "</font>"
   ]
  },
  {
   "cell_type": "code",
   "execution_count": 6,
   "id": "9cfe1660",
   "metadata": {},
   "outputs": [],
   "source": [
    "# YOUR CODE HERE!"
   ]
  },
  {
   "cell_type": "markdown",
   "id": "a26b9c30",
   "metadata": {},
   "source": [
    "<font color='#00bf63'>*Your answer here!*</font>"
   ]
  },
  {
   "cell_type": "markdown",
   "id": "ec13ad97",
   "metadata": {},
   "source": [
    "## Part II: Weather Time Series (2006–2016)\n",
    "\n",
    "You are provided a tab-separated dataset part2_data.tsv containing weather observations from 2006–2016 (e.g., temperature, humidity, wind, pressure, visibility etc.)."
   ]
  },
  {
   "cell_type": "markdown",
   "id": "43afe26d",
   "metadata": {},
   "source": [
    "#### <font color='#fc7202'> Q4 (3 p): Temperature time series\n",
    "\n",
    "1. Read the data into a `pandas DataFrame` named `weather_data` from `part2_data.tsv`.\n",
    "2. Describe the dataset:\n",
    "   - Report rows × columns.\n",
    "   - List feature names, data types, and units (where available).\n",
    "   - Summarize missing values per feature.\n",
    "   - Provide a brief summary (3-5 sentences) of what the dataset contains and any immediate data-quality issues you notice.\n",
    "3. Plot the temperature time series (2006–2016). To do this:\n",
    "   - Parse `Formatted Date` to `datetime` using `pd.to_datetime(..., errors=\"coerce\", utc=True)`.\n",
    "   - Sort the entire `DataFrame` in ascending order by the parsed time column.\n",
    "   - Plot time (*x*-axis) against `Temperature (C)` (*y*-axis) as a line plot (do not use `Apparent Temperature`).\n",
    "4. Comment briefly on whether the time series looks reasonable (e.g., seasonality, trends, etc.).\n",
    "\n",
    "</font>"
   ]
  },
  {
   "cell_type": "code",
   "execution_count": 7,
   "id": "5946a9cd",
   "metadata": {},
   "outputs": [],
   "source": [
    "# YOUR CODE HERE!"
   ]
  },
  {
   "cell_type": "markdown",
   "id": "53e13749",
   "metadata": {},
   "source": [
    "<font color='#00bf63'>*Your answer here!*</font>"
   ]
  },
  {
   "cell_type": "markdown",
   "id": "ea0b07a1",
   "metadata": {},
   "source": [
    "#### <font color='#fc7202'> Q5 (5 p): Assessment of data distributions\n",
    "\n",
    "1. Plot histograms and boxplots for all numeric variables to examine their distributions.\n",
    "2. For each variable, describe the distribution (center, spread, shape, outliers) and assess whether it aligns with expected physical/measurement behavior for that quantity; if not, specify the inconsistency and a plausible explanation.\n",
    "3. State whether descriptive statistics are appropriate for each variable: indicate if reporting mean/median/mode/standard deviation is meaningful or not, and justify your decision.\n",
    "\n",
    "</font>"
   ]
  },
  {
   "cell_type": "code",
   "execution_count": 8,
   "id": "bee7119d",
   "metadata": {},
   "outputs": [],
   "source": [
    "# YOUR CODE HERE!"
   ]
  },
  {
   "cell_type": "markdown",
   "id": "bbd8c2d5",
   "metadata": {},
   "source": [
    "<font color='#00bf63'>*Your answer here!*</font>"
   ]
  },
  {
   "cell_type": "markdown",
   "id": "4eeeea6e",
   "metadata": {},
   "source": [
    "#### <font color='#fc7202'> Q6 (3 p): Normality assessment (temperature and wind speed)\n",
    "Evaluate the empirical distributions of **`Temperature (C)`** and **`Wind Speed (km/h)`**.  \n",
    "Apply **Shapiro–Wilk** and **Kolmogorov–Smirnov** tests and construct **Q–Q plots**.  \n",
    "Using the **p-values** from the Shapiro–Wilk and Kolmogorov–Smirnov tests **together with the Q–Q plots**, evaluate whether each variable’s data are **compatible with a normal distribution at α = 0.05**; if not, briefly describe the nature of the deviation.\n",
    "\n",
    "</font>\n"
   ]
  },
  {
   "cell_type": "code",
   "execution_count": 9,
   "id": "bb57a97b",
   "metadata": {},
   "outputs": [],
   "source": [
    "# YOUR CODE HERE!"
   ]
  },
  {
   "cell_type": "markdown",
   "id": "e45a4983",
   "metadata": {},
   "source": [
    "<font color='#00bf63'>*Your answer here!*</font>"
   ]
  },
  {
   "cell_type": "markdown",
   "id": "8922480a",
   "metadata": {},
   "source": [
    "#### <font color='#fc7202'> Q7 (1 p): Distributional modeling of wind speed\n",
    "Propose a plausible **parametric distribution** for **`Wind Speed (km/h)`** and justify your choice using the dataset’s evidence. Explain why the proposed distribution is physically reasonable for wind.\n",
    "</font>"
   ]
  },
  {
   "cell_type": "markdown",
   "id": "b300a940",
   "metadata": {},
   "source": [
    "<font color='#00bf63'>*Your answer here!*</font>"
   ]
  },
  {
   "cell_type": "markdown",
   "id": "795071ab",
   "metadata": {},
   "source": [
    "## Part III: Simulation of Normal Distribution\n",
    "\n",
    "A river reference sample has been measured **1,000** times for **dissolved oxygen (DO)**. The sample **mean** is **8.79 mg/L** and the sample **standard deviation** is **2.74 mg/L**. Assume (for this exercise) that single-measurement results follow a **normal** distribution. What is the probability that the **next measurement** is **≤ 5.00 mg/L**?  \n",
    "\n",
    "\n"
   ]
  },
  {
   "cell_type": "markdown",
   "id": "cc25cf2a",
   "metadata": {},
   "source": [
    "#### <font color='#fc7202'> Q8 (3 p): Effect of sample size\n",
    "Treat individual readings as coming from a normal distribution with **mean 8.79 mg/L** and **sd 2.74 mg/L**. Use simulation to examine the effect of sample size:\n",
    "- Generate **10** values and plot a histogram.\n",
    "- Generate **10,000** values and plot a second histogram.\n",
    "\n",
    "Write **2-3 sentences** comparing the two plots, focusing on **shape** and the **stability of the sample mean** relative to **8.79**.\n",
    "\n",
    "> *Hint.* The **next code cell** contains starter code to sample from a normal distribution.\n",
    "</font>"
   ]
  },
  {
   "cell_type": "code",
   "execution_count": 10,
   "id": "993711a2",
   "metadata": {},
   "outputs": [
    {
     "data": {
      "text/plain": [
       "array([ 9.6249248 ,  5.94044355, 10.84623628, 11.36714732,  3.44416358,\n",
       "        5.22202815,  9.1402827 ,  7.9234953 ,  8.74396483,  6.45265964])"
      ]
     },
     "execution_count": 10,
     "metadata": {},
     "output_type": "execute_result"
    }
   ],
   "source": [
    "rng = np.random.default_rng(42) # for reproducibility\n",
    "mu = 8.79\n",
    "sigma = 2.74\n",
    "rng.normal(mu, sigma, size=10)"
   ]
  },
  {
   "cell_type": "code",
   "execution_count": 11,
   "id": "7f93e7e7",
   "metadata": {},
   "outputs": [],
   "source": [
    "# YOUR CODE HERE!"
   ]
  },
  {
   "cell_type": "markdown",
   "id": "0008fa32",
   "metadata": {},
   "source": [
    "<font color='#00bf63'>*Your answer here!*</font>"
   ]
  },
  {
   "cell_type": "markdown",
   "id": "7081a88e",
   "metadata": {},
   "source": [
    "#### <font color='#fc7202'> Q9 (3 p): Probability\n",
    "Using the same normal model (**mean 8.79 mg/L**, **sd 2.74 mg/L**), draw **one** sufficiently large synthetic sample (choose the size informed by Q8), **count** the observations **≤ 5.00 mg/L**, and report the resulting **fraction** as your estimate of the required probability.\n",
    "</font>"
   ]
  },
  {
   "cell_type": "code",
   "execution_count": 12,
   "id": "fedd4c88",
   "metadata": {},
   "outputs": [],
   "source": [
    "# YOUR CODE HERE!"
   ]
  },
  {
   "cell_type": "markdown",
   "id": "a57373c1",
   "metadata": {},
   "source": [
    "<font color='#00bf63'>*Your answer here!*</font>"
   ]
  },
  {
   "cell_type": "markdown",
   "id": "d04a591d",
   "metadata": {},
   "source": [
    "#### <font color='#fc7202'> Q9 (5 p): Sampling bias\n",
    "Assume, hypothetically, that the **true mean** dissolved oxygen concentration is **8.00 mg/L** (with a **standard deviation of 2.74 mg/L**).\n",
    "What is the probability that an experiment with **1,000 measurements** would produce a **sample mean ≥ 8.79 mg/L**?\n",
    "\n",
    "- To estimate this probability, perform the following steps:\n",
    "    1. Simulate the experiment many times: In each iteration, draw a random sample of size 1,000 from a normal distribution with the specified mean (8.00) and standard deviation (2.74).\n",
    "    2. Compute the sample mean for each simulated dataset.\n",
    "    3. Estimate the probability as the proportion (fraction) of simulated means that are ≥ 8.79 mg/L.\n",
    "- Visualize the results by plotting both distributions on the same figure:\n",
    "    1. The hypothetical true distribution (normal with mean = 8.00 mg/L, sd = 2.74 mg/L)\n",
    "    2. The observed-sample distribution, corresponding to a normal distribution with mean = 8.79 mg/L and the same sd (2.74 mg/L)\n",
    "    3. Add a vertical line at 8.79 mg/L to indicate the observed sample mean.\n",
    "\n",
    "> *Hint:* You can use a simple **for-loop** (or a vectorized alternative) to repeatedly sample and compute means.\n",
    "</font>"
   ]
  },
  {
   "cell_type": "code",
   "execution_count": 13,
   "id": "4eae7750",
   "metadata": {},
   "outputs": [],
   "source": [
    "# YOUR CODE HERE!"
   ]
  },
  {
   "cell_type": "markdown",
   "id": "15f5b9b2",
   "metadata": {},
   "source": [
    "<font color='#00bf63'>*Your answer here!*</font>"
   ]
  },
  {
   "cell_type": "markdown",
   "id": "dd0c777e",
   "metadata": {},
   "source": [
    "## Before you submit\n",
    "\n",
    "**Don’t forget:**\n",
    "\n",
    "Please restart the kernel and run all cells from top to bottom to ensure your notebook works correctly.\n",
    "1. In Jupyter Notebook or JupyterLab:\n",
    "   Go to the menu bar and select:\n",
    "   - `Kernel → Restart & Run All`\n",
    "2. In Visual Studio Code (VS Code):\n",
    "   - Click the `Restart Kernel` button `(↻)` (on the toolbar).\n",
    "   - Then click `Run All` `(▶▶)` to execute all cells in order.\n",
    "Make sure the notebook runs **end-to-end without errors**.\\\n",
    "If a cell still produces an error that you can’t resolve, simply **comment out that section** so the remaining cells can execute without interruption.\n",
    "\n",
    "**Time spent**\n",
    "\n",
    "Please record roughly how long you worked on this assignment:\n",
    "\n"
   ]
  },
  {
   "cell_type": "markdown",
   "id": "9ff4bf38",
   "metadata": {},
   "source": [
    "<font color='#00bf63'>*Total time spent: XXXXX h*</font>"
   ]
  },
  {
   "cell_type": "markdown",
   "id": "b230fe77",
   "metadata": {},
   "source": [
    "**Comments (optional feedback)**\n",
    "\n",
    "Here, please, leave your comments regarding the homework, possibly answering the following questions:\n",
    "- Was it too hard/easy for you?\n",
    "- What would you suggest to add or remove?\n",
    "- Anything else you would like to tell us?"
   ]
  },
  {
   "cell_type": "markdown",
   "id": "1bcec6b7",
   "metadata": {},
   "source": [
    "<font color='#00bf63'>*Your feedback*</font>"
   ]
  },
  {
   "cell_type": "markdown",
   "id": "ed8040bd",
   "metadata": {},
   "source": [
    "Excellent work making it all the way through!"
   ]
  }
 ],
 "metadata": {
  "kernelspec": {
   "display_name": "base",
   "language": "python",
   "name": "python3"
  },
  "language_info": {
   "codemirror_mode": {
    "name": "ipython",
    "version": 3
   },
   "file_extension": ".py",
   "mimetype": "text/x-python",
   "name": "python",
   "nbconvert_exporter": "python",
   "pygments_lexer": "ipython3",
   "version": "3.13.5"
  }
 },
 "nbformat": 4,
 "nbformat_minor": 5
}
