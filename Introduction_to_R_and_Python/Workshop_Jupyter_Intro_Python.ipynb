{
 "cells": [
  {
   "cell_type": "markdown",
   "metadata": {
    "id": "WPrMKsT4G4aU"
   },
   "source": [
    "# Practice Session 1\n"
   ]
  },
  {
   "cell_type": "markdown",
   "metadata": {
    "id": "tC1Ecg1iG4aY"
   },
   "source": [
    "Practice session"
   ]
  },
  {
   "cell_type": "markdown",
   "metadata": {
    "id": "QbrQTpnxG4aY"
   },
   "source": [
    "## 1. Creating, Editing and Running cells"
   ]
  },
  {
   "cell_type": "markdown",
   "metadata": {},
   "source": [
    "1.1 Creating a cell + shortcuts"
   ]
  },
  {
   "cell_type": "markdown",
   "metadata": {
    "id": "HKoI4FHaG4aZ"
   },
   "source": [
    "1.2 Command mode vs edit mode"
   ]
  },
  {
   "cell_type": "code",
   "execution_count": 1,
   "metadata": {},
   "outputs": [
    {
     "name": "stdout",
     "output_type": "stream",
     "text": [
      "Hello world!\n"
     ]
    }
   ],
   "source": [
    "print(\"Hello world!\")"
   ]
  },
  {
   "cell_type": "markdown",
   "metadata": {},
   "source": [
    "1.3 Running a cell (Hello world!)"
   ]
  },
  {
   "cell_type": "markdown",
   "metadata": {
    "id": "DIOZCmxrG4aZ"
   },
   "source": [
    "1.4 Deleting cells"
   ]
  },
  {
   "cell_type": "markdown",
   "metadata": {},
   "source": [
    "1.5 Variables and running order of cells"
   ]
  },
  {
   "cell_type": "code",
   "execution_count": 2,
   "metadata": {},
   "outputs": [],
   "source": [
    "a = 10"
   ]
  },
  {
   "cell_type": "markdown",
   "metadata": {},
   "source": [
    "1.6 Interrupting or restarting"
   ]
  },
  {
   "cell_type": "code",
   "execution_count": 3,
   "metadata": {
    "id": "aidJUkZfG4ad",
    "outputId": "b0e2a68e-7a51-48ac-c236-01727d193d2f"
   },
   "outputs": [],
   "source": [
    "import time\n",
    "\n",
    "time.sleep(3)"
   ]
  },
  {
   "cell_type": "markdown",
   "metadata": {
    "id": "W1JIQyYuG4ab"
   },
   "source": [
    "## 2. Markdown"
   ]
  },
  {
   "cell_type": "markdown",
   "metadata": {
    "id": "pCRl47uLG4ac"
   },
   "source": [
    "Headings, bold text, Latex, html, bullet points"
   ]
  },
  {
   "cell_type": "markdown",
   "metadata": {},
   "source": [
    "Hello world!"
   ]
  },
  {
   "cell_type": "markdown",
   "metadata": {
    "id": "D7qc9-4XG4ac"
   },
   "source": [
    "# 1. Heading\n",
    "## 2. Heading\n",
    "### 3. Heading"
   ]
  },
  {
   "cell_type": "markdown",
   "metadata": {
    "id": "1JILHf9CG4ac"
   },
   "source": [
    "**asg**\n",
    "\n",
    "<b>asg</b>\n",
    "\n",
    "<h3> 3. heading test </h3>\n",
    "    \n",
    "\n",
    "asf"
   ]
  },
  {
   "cell_type": "markdown",
   "metadata": {
    "id": "5nHYw1uMG4ac"
   },
   "source": [
    "$a^2$\n",
    "$\\LaTeX$\n",
    "\n",
    "$\\sum_{i=1}^{n}a_i$"
   ]
  },
  {
   "cell_type": "markdown",
   "metadata": {
    "id": "UxtsbdjXG4ad"
   },
   "source": [
    "- bullet1\n",
    "- ba2\n",
    "- asf3"
   ]
  },
  {
   "cell_type": "markdown",
   "metadata": {
    "id": "LYnWKGozG4ad"
   },
   "source": [
    "1. asf\n",
    "    2. sf\n",
    "    5. as\n",
    "    3. wf\n",
    "5. asf\n",
    "\n",
    "\n",
    "* 12 \n",
    "* 42\n",
    "* 3"
   ]
  },
  {
   "cell_type": "markdown",
   "metadata": {
    "id": "AWypX0z4G4ad"
   },
   "source": [
    "## 3. Menus"
   ]
  },
  {
   "cell_type": "markdown",
   "metadata": {
    "id": "-KJRMEotG4ae"
   },
   "source": [
    "Restart kernel, clear output, shutdown, restart and run all (important for homeworks)"
   ]
  },
  {
   "cell_type": "markdown",
   "metadata": {
    "id": "NZEkZZXOG4ae"
   },
   "source": [
    "## 4. Keyboard shortcuts"
   ]
  },
  {
   "cell_type": "markdown",
   "metadata": {
    "id": "7GQLpRJRG4ae"
   },
   "source": [
    "<a>https://www.dataquest.io/blog/jupyter-notebook-tips-tricks-shortcuts/</a>"
   ]
  },
  {
   "cell_type": "markdown",
   "metadata": {
    "id": "NmwzokltG4ae"
   },
   "source": [
    "## 5. Jupyter Magic"
   ]
  },
  {
   "cell_type": "code",
   "execution_count": 4,
   "metadata": {
    "id": "yO23M4Q4G4ae",
    "outputId": "4ee6a03e-dc49-45f1-8cfd-5b436500aef2"
   },
   "outputs": [
    {
     "data": {
      "application/json": {
       "cell": {
        "!": "OSMagics",
        "HTML": "Other",
        "SVG": "Other",
        "bash": "Other",
        "capture": "ExecutionMagics",
        "cmd": "Other",
        "code_wrap": "ExecutionMagics",
        "debug": "ExecutionMagics",
        "file": "Other",
        "html": "DisplayMagics",
        "javascript": "DisplayMagics",
        "js": "DisplayMagics",
        "latex": "DisplayMagics",
        "markdown": "DisplayMagics",
        "perl": "Other",
        "prun": "ExecutionMagics",
        "pypy": "Other",
        "python": "Other",
        "python2": "Other",
        "python3": "Other",
        "ruby": "Other",
        "script": "ScriptMagics",
        "sh": "Other",
        "svg": "DisplayMagics",
        "sx": "OSMagics",
        "system": "OSMagics",
        "time": "ExecutionMagics",
        "timeit": "ExecutionMagics",
        "writefile": "OSMagics"
       },
       "line": {
        "alias": "OSMagics",
        "alias_magic": "BasicMagics",
        "autoawait": "AsyncMagics",
        "autocall": "AutoMagics",
        "automagic": "AutoMagics",
        "autosave": "KernelMagics",
        "bookmark": "OSMagics",
        "cd": "OSMagics",
        "clear": "KernelMagics",
        "cls": "KernelMagics",
        "code_wrap": "ExecutionMagics",
        "colors": "BasicMagics",
        "conda": "PackagingMagics",
        "config": "ConfigMagics",
        "connect_info": "KernelMagics",
        "copy": "Other",
        "ddir": "Other",
        "debug": "ExecutionMagics",
        "dhist": "OSMagics",
        "dirs": "OSMagics",
        "doctest_mode": "BasicMagics",
        "echo": "Other",
        "ed": "Other",
        "edit": "KernelMagics",
        "env": "OSMagics",
        "gui": "BasicMagics",
        "hist": "Other",
        "history": "HistoryMagics",
        "killbgscripts": "ScriptMagics",
        "ldir": "Other",
        "less": "KernelMagics",
        "load": "CodeMagics",
        "load_ext": "ExtensionMagics",
        "loadpy": "CodeMagics",
        "logoff": "LoggingMagics",
        "logon": "LoggingMagics",
        "logstart": "LoggingMagics",
        "logstate": "LoggingMagics",
        "logstop": "LoggingMagics",
        "ls": "Other",
        "lsmagic": "BasicMagics",
        "macro": "ExecutionMagics",
        "magic": "BasicMagics",
        "mamba": "PackagingMagics",
        "matplotlib": "PylabMagics",
        "micromamba": "PackagingMagics",
        "mkdir": "Other",
        "more": "KernelMagics",
        "notebook": "BasicMagics",
        "page": "BasicMagics",
        "pastebin": "CodeMagics",
        "pdb": "ExecutionMagics",
        "pdef": "NamespaceMagics",
        "pdoc": "NamespaceMagics",
        "pfile": "NamespaceMagics",
        "pinfo": "NamespaceMagics",
        "pinfo2": "NamespaceMagics",
        "pip": "PackagingMagics",
        "popd": "OSMagics",
        "pprint": "BasicMagics",
        "precision": "BasicMagics",
        "prun": "ExecutionMagics",
        "psearch": "NamespaceMagics",
        "psource": "NamespaceMagics",
        "pushd": "OSMagics",
        "pwd": "OSMagics",
        "pycat": "OSMagics",
        "pylab": "PylabMagics",
        "qtconsole": "KernelMagics",
        "quickref": "BasicMagics",
        "recall": "HistoryMagics",
        "rehashx": "OSMagics",
        "reload_ext": "ExtensionMagics",
        "ren": "Other",
        "rep": "Other",
        "rerun": "HistoryMagics",
        "reset": "NamespaceMagics",
        "reset_selective": "NamespaceMagics",
        "rmdir": "Other",
        "run": "ExecutionMagics",
        "save": "CodeMagics",
        "sc": "OSMagics",
        "set_env": "OSMagics",
        "store": "StoreMagics",
        "sx": "OSMagics",
        "system": "OSMagics",
        "tb": "ExecutionMagics",
        "time": "ExecutionMagics",
        "timeit": "ExecutionMagics",
        "unalias": "OSMagics",
        "unload_ext": "ExtensionMagics",
        "who": "NamespaceMagics",
        "who_ls": "NamespaceMagics",
        "whos": "NamespaceMagics",
        "xdel": "NamespaceMagics",
        "xmode": "BasicMagics"
       }
      },
      "text/plain": [
       "Available line magics:\n",
       "%alias  %alias_magic  %autoawait  %autocall  %automagic  %autosave  %bookmark  %cd  %clear  %cls  %code_wrap  %colors  %conda  %config  %connect_info  %copy  %ddir  %debug  %dhist  %dirs  %doctest_mode  %echo  %ed  %edit  %env  %gui  %hist  %history  %killbgscripts  %ldir  %less  %load  %load_ext  %loadpy  %logoff  %logon  %logstart  %logstate  %logstop  %ls  %lsmagic  %macro  %magic  %mamba  %matplotlib  %micromamba  %mkdir  %more  %notebook  %page  %pastebin  %pdb  %pdef  %pdoc  %pfile  %pinfo  %pinfo2  %pip  %popd  %pprint  %precision  %prun  %psearch  %psource  %pushd  %pwd  %pycat  %pylab  %qtconsole  %quickref  %recall  %rehashx  %reload_ext  %ren  %rep  %rerun  %reset  %reset_selective  %rmdir  %run  %save  %sc  %set_env  %store  %sx  %system  %tb  %time  %timeit  %unalias  %unload_ext  %who  %who_ls  %whos  %xdel  %xmode\n",
       "\n",
       "Available cell magics:\n",
       "%%!  %%HTML  %%SVG  %%bash  %%capture  %%cmd  %%code_wrap  %%debug  %%file  %%html  %%javascript  %%js  %%latex  %%markdown  %%perl  %%prun  %%pypy  %%python  %%python2  %%python3  %%ruby  %%script  %%sh  %%svg  %%sx  %%system  %%time  %%timeit  %%writefile\n",
       "\n",
       "Automagic is ON, % prefix IS NOT needed for line magics."
      ]
     },
     "execution_count": 4,
     "metadata": {},
     "output_type": "execute_result"
    }
   ],
   "source": [
    "%lsmagic"
   ]
  },
  {
   "cell_type": "code",
   "execution_count": null,
   "metadata": {},
   "outputs": [],
   "source": []
  },
  {
   "cell_type": "code",
   "execution_count": 5,
   "metadata": {
    "id": "4WfmwrChG4af",
    "outputId": "5cdb9b61-3d32-4742-82c2-d9a6baa1cf00"
   },
   "outputs": [
    {
     "name": "stdout",
     "output_type": "stream",
     "text": [
      " Volume in drive C has no label.\n",
      " Volume Serial Number is CC7F-1150\n",
      "\n",
      " Directory of C:\\Users\\victor88\\OneDrive - Tartu šlikool\\ids2025\\Practice 1 materials\n",
      "\n",
      "09/06/2025  07:09 PM    <DIR>          .\n",
      "09/06/2025  07:09 PM    <DIR>          ..\n",
      "09/06/2025  07:09 PM    <DIR>          .ipynb_checkpoints\n",
      "09/10/2024  05:13 PM           311,537 Europe_boundaries.dbf\n",
      "09/10/2024  05:13 PM               143 Europe_boundaries.prj\n",
      "09/10/2024  05:13 PM         1,241,732 Europe_boundaries.shp\n",
      "09/10/2024  05:13 PM               540 Europe_boundaries.shx\n",
      "09/10/2024  05:13 PM         1,222,362 Eurostat_data_education (1).zip\n",
      "09/10/2024  05:13 PM         5,283,079 Eurostat_data_education.csv\n",
      "09/09/2024  05:15 PM         1,222,362 Eurostat_data_education.zip\n",
      "09/11/2024  05:09 PM         1,553,214 Practice 1 - Geopandas Demo.ipynb\n",
      "09/11/2024  04:59 PM            14,460 Practice 1 - Introduction to Jupyter.ipynb\n",
      "               9 File(s)     10,849,429 bytes\n",
      "               3 Dir(s)  277,652,869,120 bytes free\n"
     ]
    }
   ],
   "source": [
    "%ls"
   ]
  },
  {
   "cell_type": "code",
   "execution_count": 6,
   "metadata": {
    "id": "nChswQMHG4af",
    "outputId": "9d721ab7-577b-4136-b2f9-49c0a20fdf89"
   },
   "outputs": [
    {
     "name": "stdout",
     "output_type": "stream",
     "text": [
      "10.3 ms ± 28 µs per loop (mean ± std. dev. of 7 runs, 100 loops each)\n"
     ]
    }
   ],
   "source": [
    "import time\n",
    "%timeit time.sleep(0.01)"
   ]
  },
  {
   "cell_type": "code",
   "execution_count": null,
   "metadata": {
    "id": "9y2fbnngG4af"
   },
   "outputs": [],
   "source": []
  },
  {
   "cell_type": "markdown",
   "metadata": {
    "id": "0LZLEUKTG4af"
   },
   "source": [
    "## 6. Shell commands"
   ]
  },
  {
   "cell_type": "code",
   "execution_count": 7,
   "metadata": {
    "id": "QQ1G-mgGG4af",
    "outputId": "b35879a1-a679-4012-9aab-57d4fa69ec4e"
   },
   "outputs": [
    {
     "name": "stdout",
     "output_type": "stream",
     "text": [
      " Volume in drive C has no label.\n",
      " Volume Serial Number is CC7F-1150\n",
      "\n",
      " Directory of C:\\Users\\victor88\\OneDrive - Tartu šlikool\\ids2025\\Practice 1 materials\n",
      "\n",
      "09/06/2025  07:09 PM    <DIR>          .\n",
      "09/06/2025  07:09 PM    <DIR>          ..\n",
      "09/06/2025  07:09 PM    <DIR>          .ipynb_checkpoints\n",
      "09/10/2024  05:13 PM           311,537 Europe_boundaries.dbf\n",
      "09/10/2024  05:13 PM               143 Europe_boundaries.prj\n",
      "09/10/2024  05:13 PM         1,241,732 Europe_boundaries.shp\n",
      "09/10/2024  05:13 PM               540 Europe_boundaries.shx\n",
      "09/10/2024  05:13 PM         1,222,362 Eurostat_data_education (1).zip\n",
      "09/10/2024  05:13 PM         5,283,079 Eurostat_data_education.csv\n",
      "09/09/2024  05:15 PM         1,222,362 Eurostat_data_education.zip\n",
      "09/11/2024  05:09 PM         1,553,214 Practice 1 - Geopandas Demo.ipynb\n",
      "09/11/2024  04:59 PM            14,460 Practice 1 - Introduction to Jupyter.ipynb\n",
      "               9 File(s)     10,849,429 bytes\n",
      "               3 Dir(s)  277,652,762,624 bytes free\n"
     ]
    }
   ],
   "source": [
    "!dir"
   ]
  },
  {
   "cell_type": "code",
   "execution_count": 8,
   "metadata": {
    "id": "tK7bej_JG4ag"
   },
   "outputs": [
    {
     "name": "stdout",
     "output_type": "stream",
     "text": [
      "Requirement already satisfied: numpy in c:\\users\\victor88\\appdata\\local\\miniconda3\\lib\\site-packages (1.26.4)\n"
     ]
    }
   ],
   "source": [
    "#!conda install numpy \n",
    "!pip install numpy"
   ]
  }
 ],
 "metadata": {
  "colab": {
   "name": "Intro to Jupyter.ipynb",
   "provenance": []
  },
  "kernelspec": {
   "display_name": "Python 3 (ipykernel)",
   "language": "python",
   "name": "python3"
  },
  "language_info": {
   "codemirror_mode": {
    "name": "ipython",
    "version": 3
   },
   "file_extension": ".py",
   "mimetype": "text/x-python",
   "name": "python",
   "nbconvert_exporter": "python",
   "pygments_lexer": "ipython3",
   "version": "3.12.2"
  }
 },
 "nbformat": 4,
 "nbformat_minor": 4
}
