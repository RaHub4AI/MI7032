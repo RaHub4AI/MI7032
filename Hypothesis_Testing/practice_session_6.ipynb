{
 "cells": [
  {
   "cell_type": "markdown",
   "id": "e728ea0b",
   "metadata": {},
   "source": [
    "# Practice Session 6: Non-Normally Distributed Data and Non-Parametric Tests"
   ]
  },
  {
   "cell_type": "code",
   "execution_count": null,
   "id": "a03416a8",
   "metadata": {},
   "outputs": [
    {
     "name": "stdout",
     "output_type": "stream",
     "text": [
      "Collecting outlier_utils\n",
      "  Downloading outlier_utils-0.0.5-py3-none-any.whl.metadata (2.6 kB)\n",
      "Requirement already satisfied: numpy in c:\\programdata\\anaconda3\\lib\\site-packages (from outlier_utils) (2.1.3)\n",
      "Requirement already satisfied: scipy in c:\\programdata\\anaconda3\\lib\\site-packages (from outlier_utils) (1.15.3)\n",
      "Downloading outlier_utils-0.0.5-py3-none-any.whl (5.1 kB)\n",
      "Installing collected packages: outlier_utils\n",
      "Successfully installed outlier_utils-0.0.5\n"
     ]
    }
   ],
   "source": [
    "# Install the outlier_utils package\n",
    "# We will use it in today's practice session to perform the Grubbs' test for detecting outliers\n",
    "!pip install outlier_utils\n"
   ]
  },
  {
   "cell_type": "code",
   "execution_count": 110,
   "id": "8a70f569",
   "metadata": {},
   "outputs": [],
   "source": [
    "import pandas as pd\n",
    "import numpy as np\n",
    "\n",
    "from scipy import stats\n",
    "from scipy.stats import ttest_1samp, ttest_ind, ttest_rel, f, shapiro, levene, wilcoxon, mannwhitneyu\n",
    "from outliers import smirnov_grubbs as grubbs\n",
    "\n",
    "import matplotlib.pyplot as plt\n",
    "plt.rcParams[\"figure.figsize\"] = (8, 8)\n",
    "import seaborn as sns\n",
    "\n",
    "import warnings\n",
    "warnings.filterwarnings('ignore')"
   ]
  },
  {
   "cell_type": "markdown",
   "id": "49230543",
   "metadata": {},
   "source": [
    "## Part 1: Understanding Non-Normal Data and Outliers\n",
    "\n",
    "So far, all the hypothesis tests we have used assumed that the data were **normally distributed**.  \n",
    "But what if that assumption does not hold?\n",
    "\n",
    "There are many reasons why data might **not follow a normal distribution**.\\\n",
    "As we already saw in **Practice Session 2**, environmental data often follow **log-normal**, **exponential**, or other **skewed** distributions.\\\n",
    "In some cases, a **data transformation** (for example, log-transform) can make the data approximately normal.  \n",
    "\n",
    "However, non-normality can also arise from the presence of **outliers**, which can introduce or increase skewness in the data.\n",
    "\n",
    "**A quick reminder: what is skewness?**\\\n",
    "**Skewness** measures how asymmetric a distribution is relative to the mean:\n",
    "- A **positive skew** (right-skewed) means a longer tail on the **right** side (e.g., most values are small, but a few are much larger).  \n",
    "- A **negative skew** (left-skewed) means a longer tail on the **left** side (e.g., most values are large, but a few are much smaller).  \n",
    "\n",
    "In **Homework 1**, you already calculated the **sample skewness** and **excess kurtosis** of your dataset.\n",
    "\n",
    "**How much skewness or kurtosis is \"acceptable\"?**\\\n",
    "In practice, **small deviations from normality are usually not a problem** - most parametric tests, such as the *t*-test, are fairly robust to mild non-normality.  \n",
    "\n",
    "Below are commonly used **rule-of-thumb thresholds** for interpreting **skewness**:\n",
    "| Distribution shape | Skewness range | Interpretation |\n",
    "|:---|:---:|:---|\n",
    "| Approximately normal | −0.5 to +0.5 | Distribution is close to symmetric |\n",
    "| Moderately skewed | −1 to −0.5 or +0.5 to +1 | Noticeable asymmetry |\n",
    "| Highly skewed | ≤ −1 or ≥ +1 | Strong asymmetry, non-normal |\n",
    "\n",
    "For **excess kurtosis**, values between **−0.5 and +0.5** are typically considered *close to normal* (that is, the distribution’s tails and peak resemble those of a normal curve.)\n",
    "<div style=\"display: flex; align-items: center; justify-content: space-around;\">\n",
    "  <img src=\"https://raw.githubusercontent.com/RaHub4AI/MI7032/refs/heads/main/Pictures/skew.png\" alt=\"Skewness illustration\" width=\"48%\">\n",
    "  <img src=\"https://raw.githubusercontent.com/RaHub4AI/MI7032/refs/heads/main/Pictures/kurtosis.png\" alt=\"Kurtosis illustration\" width=\"48%\">\n",
    "</div>\n",
    "\n",
    "**A note on outliers**\\\n",
    "On boxplots, potential outliers are displayed as **individual points**.  \n",
    "They are identified when they fall more than **1.5 × IQR (interquartile range)** below the first quartile (Q1) or above the third quartile (Q3).\\\n",
    "This is a **visual guideline** (a quick way to spot unusual values) but it is **not a formal statistical test** for identifying outliers.\n",
    "\n",
    "\n",
    "#### The Grubbs’ test for outliers\n",
    "If we want to formally test whether a single observation is an outlier, we can use the **Grubbs’ test** (also called the **maximum normalized residual test**).\\\n",
    "The test detects **one outlier at a time** by comparing the largest deviation from the mean to the overall standard deviation: $G = \\frac{\\max |x_i - \\bar{x}|}{s}$, where:\n",
    "- $\\bar{x}$ is the sample mean,  \n",
    "- $s$ is the sample standard deviation, and  \n",
    "- $x_i$ is an observation in the dataset.\n",
    "\n",
    "The Grubbs’ test checks the following hypotheses:\n",
    "- **Null hypothesis ($H_0$)**: There are **no outliers** in the data.  \n",
    "- **Alternative hypothesis ($H_1$)**: There is **at least one outlier**.\n",
    "\n",
    "If the computed test statistic $G$ exceeds the critical value (based on the *t*-distribution), we reject $H_0$ and conclude that the most extreme value is a statistical outlier.\n",
    "\n",
    "> *Note:* Grubbs’ test assumes **normality** of the underlying data.\n"
   ]
  },
  {
   "cell_type": "markdown",
   "id": "89e7359f",
   "metadata": {},
   "source": [
    "#### <font color=\"#fc7202\">Task 1:</font>\n",
    "You are given a 1D dataset (see the code cell below).  \n",
    "\n",
    "1) **Visualize** the data (boxplot, histogram, Q-Q plot).  \n",
    "2) **Describe** the data (count, mean, median, std, skewness, excess kurtosis).  \n",
    "3) If the plots indicate **potential outliers**, apply the **Grubbs’ test** (testing one suspected outlier at a time).\n",
    "   - If an outlier is detected, remove it, then repeat the descriptive analysis and plotting for the cleaned dataset.\n",
    "4) Briefly **summarize** what changed after removing outliers.\n",
    "\n",
    "*Hint:* Use the `grubbs()` function from the **`outliers.smirnov_grubbs`** module (already imported for you as `grubbs.test()`) to perform the **Grubbs’ test** for detecting statistical outliers."
   ]
  },
  {
   "cell_type": "code",
   "execution_count": 25,
   "id": "9e380641",
   "metadata": {},
   "outputs": [],
   "source": [
    "dataset_outliers = pd.DataFrame({'measurement_id': np.arange(1, 21),\n",
    "                                 'observed_value': [0.4, 1.7, 0.6, 74.9, 13.9, 0.8, 20.2, 143.2, 725.7, 0.2, 160.2, 14.7, 5.0, 2.9, 171.7, 20.4, 1.4, 17.1, 79.7, 27.6]})"
   ]
  },
  {
   "cell_type": "code",
   "execution_count": null,
   "id": "f12918e5",
   "metadata": {},
   "outputs": [],
   "source": [
    "# YOUR CODE HERE!"
   ]
  },
  {
   "cell_type": "markdown",
   "id": "ee8be944",
   "metadata": {},
   "source": [
    "#### <font color=\"#fc7202\">Task 2:</font>\n",
    "\n",
    "A file named **`three_datasets.tsv`** contains (indeed) three different datasets.  \n",
    "Exactly **one** of them is **already (approximately) normally distributed**.  \n",
    "For the **other two**, your task is to find a **monotonic transformation** that makes them **approximately normal** - **without removing any data points** (no outlier trimming).\n",
    "\n",
    "**Your goals:**\n",
    "1) **Import** the data into Python.  \n",
    "2) **Compute descriptive statistics** for each dataset (n, mean, median, sd, skewness, excess kurtosis, quartiles).  \n",
    "3) **Visualize** each dataset (boxplot, histogram, Q-Q plot).  \n",
    "4) **Identify** which dataset is already normal (use Q-Q plots + formal tests).  \n",
    "5) For the **non-normal** datasets, **apply a suitable transformation**.  \n",
    "6) **Re-evaluate normality** on the transformed data (Q-Q plots + Shapiro-Wilk).  \n",
    "7) **Report your evidence**: show before/after plots and test *p*-values, and **justify** the chosen transformation (briefly)."
   ]
  },
  {
   "cell_type": "code",
   "execution_count": null,
   "id": "be91be9d",
   "metadata": {},
   "outputs": [],
   "source": [
    "# YOUR CODE HERE!"
   ]
  },
  {
   "cell_type": "markdown",
   "id": "608f6ca5",
   "metadata": {},
   "source": [
    "#### Advantages and disadvantages of data transformation\n",
    "\n",
    "**Advantages:**\n",
    "- Helps data **meet the assumptions** of parametric tests (e.g., normality, equal variance).  \n",
    "- **Preserves relative magnitudes** - the order and spacing between observations remain meaningful.  \n",
    "- Can **reveal structure** in the data or provide insight into underlying processes/physical system.\n",
    "\n",
    "**Disadvantages:**\n",
    "- Results are expressed in **transformed units** (e.g., `log(µg/L)`), which can be **hard to interpret**.  \n",
    "- **Alters the meaning** of hypothesis tests - for example, a *t*-test on log-transformed means tests for **ratios** rather than absolute differences ($\\log(x_1) - \\log(x_2) = \\log(\\frac{x_1}{x_2})$).  \n",
    "- May complicate **communication of results**, since back-transformation is required for interpretation in the original scale."
   ]
  },
  {
   "cell_type": "markdown",
   "id": "49ca859b",
   "metadata": {},
   "source": [
    "## Part 2: Non-Parametric Tests\n",
    "\n",
    "<div style=\"display: flex; align-items: flex-start; justify-content: space-between;\">\n",
    "  <div style=\"flex: 1; padding-right: 10px;\">\n",
    "\n",
    "Up to this point, we have used **parametric tests** such as the *t*-test and *F*-test, but we have not yet defined what actually makes a test *parametric*.\n",
    "\n",
    "Parametric tests are based on specific **assumptions about the population**, most importantly that the data are **normally distributed** and that the **variances are similar** between groups.  \n",
    "They also rely on **population parameters**, such as the **mean (μ)** and **standard deviation (σ)**, which is where the term *parametric* originates.\n",
    "\n",
    "When these assumptions are met, parametric tests are generally **more powerful** because they make efficient use of all the data.  \n",
    "However, if the data deviate strongly from normality, have unequal variances, or contain outliers, applying a parametric test can lead to **misleading conclusions**.\n",
    "\n",
    "In such cases, it is better to use a **non-parametric test**.  \n",
    "Non-parametric tests, sometimes called **distribution-free methods**, do not rely on strong assumptions about the data’s underlying distribution.  \n",
    "They work on **ranks or medians** rather than means and are therefore **more robust** against skewed data and outliers, although typically **less sensitive** when the data are perfectly normal.\n",
    "\n",
    "In practice, the goal is not to avoid non-parametric tests but to **choose the method that best fits the data**.  \n",
    "If your dataset reasonably meets the assumptions, use a parametric test.  \n",
    "If not, a non-parametric test provides a safer and more reliable alternative.\n",
    "\n",
    "The diagram on the right summarizes this general decision process:  \n",
    "when to stay within the parametric framework and when to switch to non-parametric approaches.\n",
    "\n",
    "  </div>\n",
    "  <div style=\"flex: 0 0 50%; text-align: right;\">\n",
    "    <img src=\"https://raw.githubusercontent.com/RaHub4AI/MI7032/refs/heads/main/Pictures/normal_nonnormal_data.png\"\n",
    "         alt=\"Workflow: choosing parametric vs. non-parametric tests\"\n",
    "         width=\"95%\"\n",
    "         style=\"border-radius: 8px;\">\n",
    "  </div>\n",
    "</div>\n",
    "\n",
    "In today’s session, we will focus on two widely used **non-parametric tests** that serve as direct alternatives to the *t*-tests we have used before:\n",
    "- The **Wilcoxon Signed-Rank Test**, which is the non-parametric alternative to the **one-sample** *t*-test or the **paired two-sample** *t*-test.  \n",
    "- The **Mann-Whitney U Test**, which replaces the **independent two-sample** *t*-test.  \n",
    "\n",
    "\n"
   ]
  },
  {
   "cell_type": "markdown",
   "id": "b812ce15",
   "metadata": {},
   "source": [
    "#### The Wilcoxon Signed-Rank Test\n",
    "\n",
    "The **Wilcoxon Signed-Rank Test** is used when we have **paired data** (two related samples) or when we want to test whether the **median** of a single sample differs from a hypothesized value.  \n",
    "\n",
    "**How it works:**\n",
    "1. For each observation, calculate the **difference** between the two paired values (or between the observed value and the hypothesized median).  \n",
    "2. Ignore any pairs with a difference of 0.  \n",
    "3. Take the **absolute values** of the differences and **rank** them from smallest to largest.  \n",
    "4. Assign the **sign** of the original difference (+ or −) to each rank.  \n",
    "5. Sum the ranks for positive ($W^+$) and negative ($W^-$) differences separately.  \n",
    "6. The **test statistic** is often $W = \\min(W^+, W^-)$ (i.e., the smaller of the two signed rank sums).\n",
    "7. Under the null hypothesis (no median difference), the positive and negative ranks should be **balanced**.  \n",
    "   For small samples, *critical values* of $W$ are tabulated.  \n",
    "   For larger samples ($n > 10$), $W$ approximately follows a **normal distribution** with  $\\mu_W = \\frac{n(n+1)}{4}, \\quad \\sigma_W = \\sqrt{\\frac{n(n+1)(2n+1)}{24}}$\\\n",
    "   The standardized test statistic is then $Z = \\frac{W - \\mu_W}{\\sigma_W}$ which can be compared to the standard normal distribution to obtain the *p*-value.\n",
    "\n",
    "If the data come from a symmetric distribution centered around zero, positive and negative ranks balance out.  \n",
    "A large imbalance between $W^+$ and $W^-$ indicates a systematic shift - evidence against $H_0$.\n",
    "\n",
    "**Hypotheses:**\n",
    "\n",
    "- $H_0$: The median difference between pairs is zero.  \n",
    "- $H_1$: The median difference is not zero (two-tailed), or greater/less than zero (one-tailed).\n",
    "\n",
    "---\n",
    "\n",
    "**Example:**\\\n",
    "Let $X$ denote the length (in cm) of a randomly selected pygmy sunfish.\\\n",
    "Given the sample: $\\{\\,5.0,\\; 3.9,\\; 5.2,\\; 5.5,\\; 2.8,\\; 6.1,\\; 6.4,\\; 2.6,\\; 1.7,\\; 4.3\\,\\}$ test whether the **population median** differs from **3.7 cm** at the 95% of confidence level.\n",
    "\n",
    "*Hypotheses:*\n",
    "- $H_0:\\ \\text{median}(X)=3.7$\n",
    "- $H_1:\\ \\text{median}(X)\\neq 3.7$\n",
    "\n",
    "*Test choice:* Wilcoxon **signed-rank** test (one-sample, two-sided).  \n",
    "\n",
    "<div style=\"display: flex; align-items: flex-start; justify-content: space-between;\">\n",
    "  <div style=\"flex: 1; padding-right: 10px;\">\n",
    "\n",
    "*Manual Calculation*\n",
    "\n",
    "1. Compute the differences from the hypothesized median (3.7 cm)\n",
    "\n",
    "| Observation | Value (cm) | Difference (x − 3.7) |\n",
    "|:--:|--:|--:|\n",
    "| 1 | 5.0 | +1.3 |\n",
    "| 2 | 3.9 | +0.2 |\n",
    "| 3 | 5.2 | +1.5 |\n",
    "| 4 | 5.5 | +1.8 |\n",
    "| 5 | 2.8 | −0.9 |\n",
    "| 6 | 6.1 | +2.4 |\n",
    "| 7 | 6.4 | +2.7 |\n",
    "| 8 | 2.6 | −1.1 |\n",
    "| 9 | 1.7 | −2.0 |\n",
    "| 10 | 4.3 | +0.6 |\n",
    "\n",
    "No zero differences, so $n = 10$.\n",
    "\n",
    "2. Take absolute differences and rank them (smallest = 1)\n",
    "\n",
    "| Observation | Difference | abs(Difference) | Rank | Signed Rank |\n",
    "|:--:|--:|--:|--:|--:|\n",
    "| 2 | +0.2 | 0.2 | 1 | +1 |\n",
    "| 10 | +0.6 | 0.6 | 2 | +2 |\n",
    "| 5 | −0.9 | 0.9 | 3 | −3 |\n",
    "| 8 | −1.1 | 1.1 | 4 | −4 |\n",
    "| 1 | +1.3 | 1.3 | 5 | +5 |\n",
    "| 3 | +1.5 | 1.5 | 6 | +6 |\n",
    "| 4 | +1.8 | 1.8 | 7 | +7 |\n",
    "| 9 | −2.0 | 2.0 | 8 | −8 |\n",
    "| 6 | +2.4 | 2.4 | 9 | +9 |\n",
    "| 7 | +2.7 | 2.7 | 10 | +10 |\n",
    "\n",
    "  </div>\n",
    "  <div style=\"flex: 0 0 60%; text-align: left;\">\n",
    "    <img src=\"https://raw.githubusercontent.com/RaHub4AI/MI7032/refs/heads/main/Pictures/fish.png\"\n",
    "         alt=\"Workflow: choosing parametric vs. non-parametric tests\"\n",
    "         width=\"55%\"\n",
    "         style=\"border-radius: 8px;\">\n",
    "  </div>\n",
    "</div>\n",
    "\n",
    "\n",
    "3. Sum the positive and negative ranks\n",
    "    - $W^+ = 1 + 2 + 5 + 6 + 7 + 9 + 10 = 40$\n",
    "    - $W^- = 3 + 4 + 8 = 15$\n",
    "\n",
    "4. Test statistic\\\n",
    "    $W = \\min(W^+, W^-) = 15$\n",
    "\n",
    "5. Decision\\\n",
    "For $n = 10$, two-sided critical region (α = 0.05) ≈ $W \\leq 8$. (https://users.stat.ufl.edu/~winner/tables/wilcox_signrank.pdf)\\\n",
    "Since $W = 15 > 8$, we **fail to reject $H_0$**.\n",
    "\n",
    "*Conclusion:* There is **no statistically significant evidence** that the median pygmy sunfish length differs from **3.7 cm**.  \n",
    "Hence, the **median length ≈ 3.7 cm** is consistent with the sample data.\n",
    "\n",
    "\n"
   ]
  },
  {
   "cell_type": "code",
   "execution_count": 107,
   "id": "2bf8fe16",
   "metadata": {},
   "outputs": [
    {
     "name": "stdout",
     "output_type": "stream",
     "text": [
      "W = 15, p = 0.2324\n"
     ]
    }
   ],
   "source": [
    "# Same test in Python using stats.wilcoxon()\n",
    "x = np.array([5.0, 3.9, 5.2, 5.5, 2.8, 6.1, 6.4, 2.6, 1.7, 4.3])\n",
    "\n",
    "# one-sample Wilcoxon signed-rank against median = 3.7\n",
    "res = wilcoxon(x - 3.7, alternative='two-sided', zero_method='wilcox', method='exact')\n",
    "print(f\"W = {res.statistic:.0f}, p = {res.pvalue:.4f}\")"
   ]
  },
  {
   "cell_type": "markdown",
   "id": "d083dcaf",
   "metadata": {},
   "source": [
    "> *Conclusion (*α* = 0.05):* $p > 0.05$ → fail to reject $H_0$\\\n",
    "> There is no statistically significant evidence that the median pygmy sunfish length differs from 3.7 cm."
   ]
  },
  {
   "cell_type": "markdown",
   "id": "6d0608d2",
   "metadata": {},
   "source": [
    "#### The Mann-Whitney *U* Test\n",
    "\n",
    "The **Mann-Whitney *U* Test** (also known as the **Wilcoxon Rank-Sum Test**) compares **two independent samples** and tests whether one tends to have larger values than the other.  \n",
    "It serves as the **non-parametric counterpart** to the *independent two-sample t-test*.\n",
    "\n",
    "**How it works:**\n",
    "1. Combine all observations from both groups into one dataset.  \n",
    "2. Rank all values together from smallest to largest (assign average ranks for ties).  \n",
    "3. Compute the **sum of ranks** for each group.  \n",
    "4. The ***U* statistic** measures how much the ranks from one group differ from what would be expected under the null hypothesis of identical distributions.\n",
    "\n",
    "If the distributions are truly the same, the ranks should be evenly mixed.  \n",
    "If one group tends to have systematically higher or lower ranks, the test statistic will reflect this imbalance.\n",
    "\n",
    "**Hypotheses:**\n",
    "- $H_0$: The two groups come from the same population (distributions are identical).  \n",
    "- $H_1$: The distributions differ (e.g., one tends to yield larger values).\n",
    "\n",
    "---\n",
    "\n",
    "**Example**\n",
    "\n",
    "We have independent samples of **body mass (in grams)** from two lizard species:\n",
    "- **Geckos:** 3.186, 2.427, 4.031, 1.995  \n",
    "- **Anoles:** 5.515, 5.659, 6.739, 3.184  \n",
    "\n",
    "We want to test whether the **two species differ in body mass**, without assuming normality and without specifying a direction of difference.\n",
    "\n",
    "*Hypotheses:*\n",
    "- $H_0$: The two species have the same population distribution (no difference in medians)\n",
    "- $H_1$: The body mass distributions differ between Geckos and Anoles\n",
    "\n",
    "Because the data are **not normally distributed** and the sample sizes are **small (*n* = 4 per group)**,  \n",
    "we use the **Mann-Whitney U test**, a **non-parametric alternative** to the independent two-sample *t*-test.\n",
    "\n",
    "*Manual calculation*\n",
    "\n",
    "<div style=\"display: flex; align-items: flex-start; justify-content: space-between;\">\n",
    "  <div style=\"flex: 1; padding-right: 10px;\">\n",
    "\n",
    "1. Pool all observations and rank from smallest to largest (no ties here):\n",
    "\n",
    "| Value | Group | Rank |\n",
    "|:-----:|:----:|:---:|\n",
    "| 1.995 | G | 1 |\n",
    "| 2.427 | G | 2 |\n",
    "| 3.184 | A | 3 |\n",
    "| 3.186 | G | 4 |\n",
    "| 4.031 | G | 5 |\n",
    "| 5.515 | A | 6 |\n",
    "| 5.659 | A | 7 |\n",
    "| 6.739 | A | 8 |\n",
    "\n",
    "2. Sum of ranks  \n",
    "- Geckos: $R_G = 1 + 2 + 4 + 5 = 12$  \n",
    "- Anoles: $R_A = 3 + 6 + 7 + 8 = 24$\n",
    "\n",
    "3. U statistics \\\n",
    "$(n_G = n_A = 4)$\\\n",
    "$U_G = R_G - \\frac{n_G(n_G+1)}{2} = 12 - 10 = 2$\\\n",
    "$U_A = R_A - \\frac{n_A(n_A+1)}{2} = 24 - 10 = 14$\n",
    "\n",
    "    The test statistic is: $U = \\min(U_G, U_A) = \\mathbf{2}$\n",
    "\n",
    "  </div>\n",
    "  <div style=\"flex: 0 0 60%; text-align: left;\">\n",
    "    <img src=\"https://raw.githubusercontent.com/RaHub4AI/MI7032/refs/heads/main/Pictures/geckos_anoles.png\"\n",
    "         alt=\"Workflow: choosing parametric vs. non-parametric tests\"\n",
    "         width=\"55%\"\n",
    "         style=\"border-radius: 8px;\">\n",
    "  </div>\n",
    "</div>\n",
    "\n",
    "4. Decision (two-sided, α = 0.05):  \n",
    "For $n_1=n_2=4$, the **critical value** is $U_{crit} = 0$ (https://media.geeksforgeeks.org/wp-content/uploads/20201110022047/mannwhitneytwotailed.PNG)\\\n",
    "Since our observed value $U=2$ is greater than the critical value, we fail to reject the null hypothesis.\\\n",
    "There is no statistically significant difference between the two groups at the 5% significance level.\n",
    "\n"
   ]
  },
  {
   "cell_type": "code",
   "execution_count": 111,
   "id": "e130d744",
   "metadata": {},
   "outputs": [
    {
     "name": "stdout",
     "output_type": "stream",
     "text": [
      "U = 2.0, p-value = 0.1143\n"
     ]
    }
   ],
   "source": [
    "geckos = np.array([3.186, 2.427, 4.031, 1.995])\n",
    "anoles = np.array([5.515, 5.659, 6.739, 3.184])\n",
    "\n",
    "# Two-sided, exact method for small samples\n",
    "res = mannwhitneyu(geckos, anoles, alternative='two-sided', method='exact')\n",
    "print(f\"U = {res.statistic}, p-value = {res.pvalue:.4f}\")"
   ]
  },
  {
   "cell_type": "markdown",
   "id": "d04135db",
   "metadata": {},
   "source": [
    "> *Conclusion:* Since this *p*-value is greater than the significance level (*α* = 0.05), we fail to reject the null hypothesis.\n",
    "There is no statistically significant difference in the median body mass between geckos and anoles."
   ]
  },
  {
   "cell_type": "markdown",
   "id": "f4a12d66",
   "metadata": {},
   "source": [
    "#### <font color=\"#fc7202\">Task 3:</font>\n",
    "\n",
    "The lead concentration in the blood (pg/mL) of seven children from Stockholm was measured as follows:\n",
    "> 104, 79, 98, 150, 87, 136, 101\n",
    "\n",
    "We want to know whether these data differ significantly from the Swedish population median, which is reported to be 95 pg/mL.\n",
    "\n",
    "Your tasks:\n",
    "1. Formulate the hypotheses clearly.\n",
    "2. Apply both a Wilcoxon signed-rank test and a one-sample *t*-test to evaluate whether the Stockholm sample differs significantly from the population median (or mean).\n",
    "3. Compare and interpret the results of both tests.\n"
   ]
  },
  {
   "cell_type": "code",
   "execution_count": null,
   "id": "8b8f6715",
   "metadata": {},
   "outputs": [],
   "source": [
    "# YOUR CODE HERE!"
   ]
  },
  {
   "cell_type": "markdown",
   "id": "b749bb0f",
   "metadata": {},
   "source": [
    "#### Statistical Power and Sample Size\n",
    "\n",
    "The power of a statistical test is the probability of correctly rejecting the null hypothesis when it is false. In other words, the probability of detecting a true effect.\\\n",
    "High power means that the test is sensitive enough to identify real differences when they exist.\n",
    "\n",
    "Statistical power depends on four key factors:\n",
    "- Effect size: how large the true difference or relationship is\n",
    "- Sample size: the number of observations available\n",
    "- Significance level (*α*): how strict our threshold for Type I error is (commonly 0.05)\n",
    "- Data variability: how much random noise or spread there is in the data\n",
    "\n",
    "A common rule of thumb is to aim for a power of **0.8 (80%)**, meaning there is an 80% chance of detecting an effect of the specified size if it truly exists.\n",
    "\n",
    "**Why power matters?**\\\n",
    "The main use of statistical power is in power analysis, which is typically performed before an experiment to ensure that the study design is adequate. Power analysis helps determine the minimum sample size needed to detect an effect of a given size with reasonable certainty, for example, “How many measurements are needed to reliably detect a change?”\n",
    "\n",
    "If the available sample size is fixed, power analysis can also be used to estimate the smallest effect size that can be detected with acceptable confidence.\n",
    "\n",
    "Power is crucial because both extremes, too little or too much power, can lead to problems:\n",
    "- An underpowered study is likely to be inconclusive, failing to detect real effects and contributing to issues like the replication crisis in science.\n",
    "- An overpowered study, on the other hand, can be wasteful, detecting even trivial effects that have no real practical meaning and consuming unnecessary resources (e.g., testing more samples or animal subjects than ethically needed).\n",
    "\n",
    "For this reason, funding agencies, ethics boards, and research review panels often require a power analysis as part of experimental design and justification.\n",
    "\n",
    "**Choosing an effect size**\\\n",
    "The effect size represents the magnitude of the difference or association we want to be able to detect.\n",
    "It can be based on:\n",
    "- Previous studies or literature values\n",
    "- Scientific or practical relevance (e.g., a difference large enough to matter in practice)\n",
    "- Pilot data or preliminary measurements\n",
    "\n",
    "In the context of a *t*-test, the effect size is often expressed as **Cohen’s *d***, which quantifies the difference between means relative to the variability in the data: $d = \\frac{|\\bar{x}_1 - \\bar{x}_2|}{s_p}$, where  \n",
    "- $\\bar{x}_1$ and $\\bar{x}_2$ are group means \n",
    "- $s_p$ is pooled standard deviation  \n",
    "\n",
    "> Because measurements can be made in different **units or scales**, raw mean differences are not directly comparable.  \n",
    "> Cohen’s *d* standardizes the difference between means in **units of standard deviation**, making the results easier to interpret and compare across studies.\n",
    "\n",
    "Typical interpretation (Cohen, 1988):  \n",
    "- **Small effect:** $d \\approx 0.2$  \n",
    "- **Medium effect:** $d \\approx 0.5$  \n",
    "- **Large effect:** $d \\approx 0.8$ or greater\n",
    "\n",
    "Larger effect sizes are easier to detect (higher power), while smaller effect sizes require larger sample sizes to achieve the same power.\n",
    "\n",
    "**Calculating test power**\\\n",
    "In Python, we can estimate the power of a *t*-test using functions from `statsmodels.stats.power`.\\\n",
    "For example, if we want to check the power for detecting a given difference from 95 pg/mL (Task 3):"
   ]
  },
  {
   "cell_type": "code",
   "execution_count": 149,
   "id": "76888c9e",
   "metadata": {},
   "outputs": [
    {
     "name": "stdout",
     "output_type": "stream",
     "text": [
      "Cohen's d (effect size): 0.498\n",
      "Sample size: 7, α = 0.05\n",
      "Estimated statistical power: 0.200\n"
     ]
    }
   ],
   "source": [
    "from statsmodels.stats.power import TTestPower\n",
    "\n",
    "# Parameters\n",
    "mean_sample = np.mean(pb_children.pb_conc_pg_mL)\n",
    "std_sample = np.std(pb_children.pb_conc_pg_mL, ddof=1)\n",
    "mu_ref = 95\n",
    "alpha = 0.05\n",
    "n = len(pb_children)  # use actual sample size\n",
    "\n",
    "# Compute Cohen's d (effect size)\n",
    "effect_size = (mean_sample - mu_ref) / std_sample\n",
    "\n",
    "# Power analysis\n",
    "power_analysis = TTestPower()\n",
    "power = power_analysis.power(effect_size=effect_size, nobs=n, alpha=alpha, alternative='two-sided')\n",
    "\n",
    "print(f'Cohen\\'s d (effect size): {effect_size:.3f}')\n",
    "print(f'Sample size: {n}, α = {alpha}')\n",
    "print(f'Estimated statistical power: {power:.3f}')\n"
   ]
  },
  {
   "cell_type": "code",
   "execution_count": 162,
   "id": "bd7cefeb",
   "metadata": {},
   "outputs": [
    {
     "data": {
      "image/png": "[encoded data removed]",
      "text/plain": [
       "<Figure size 500x300 with 1 Axes>"
      ]
     },
     "metadata": {},
     "output_type": "display_data"
    }
   ],
   "source": [
    "# Let's visualize how the statistical power changes with sample size\n",
    "sample_sizes = np.arange(5, 50)\n",
    "power_values = [power_analysis.power(effect_size=effect_size, nobs=n, alpha=0.05, alternative='two-sided') for n in sample_sizes]\n",
    "\n",
    "plt.figure(figsize=(5, 3))\n",
    "plt.plot(sample_sizes, power_values, label=f'Measured d = {effect_size:.2f}', lw=2, color='#1b7173')\n",
    "plt.axhline(0.8, color='gray', ls='--', lw=1, label='Target power = 0.8')\n",
    "\n",
    "plt.xlabel('Sample size (n)')\n",
    "plt.ylabel('Statistical power')\n",
    "plt.title('Power vs Sample Size')\n",
    "plt.legend()\n",
    "plt.tight_layout()\n",
    "plt.show()"
   ]
  },
  {
   "cell_type": "markdown",
   "id": "36825ec1",
   "metadata": {},
   "source": [
    "> We can also reverse the calculation: given a desired power (e.g. 0.8) and effect size, find the required sample size:"
   ]
  },
  {
   "cell_type": "code",
   "execution_count": 165,
   "id": "006be9b7",
   "metadata": {},
   "outputs": [
    {
     "name": "stdout",
     "output_type": "stream",
     "text": [
      "Required sample size for 80% power: 33.6\n"
     ]
    }
   ],
   "source": [
    "# Calculate the required sample size to achieve 80% statistical power given the observed effect size, significance level (alpha), and two-sided test\n",
    "required_n = power_analysis.solve_power(effect_size=effect_size, power=0.8, alpha=alpha, alternative='two-sided')\n",
    "print(f'Required sample size for 80% power: {required_n:.1f}')"
   ]
  }
 ],
 "metadata": {
  "colab": {
   "collapsed_sections": [],
   "provenance": []
  },
  "kernelspec": {
   "display_name": "base",
   "language": "python",
   "name": "python3"
  },
  "language_info": {
   "codemirror_mode": {
    "name": "ipython",
    "version": 3
   },
   "file_extension": ".py",
   "mimetype": "text/x-python",
   "name": "python",
   "nbconvert_exporter": "python",
   "pygments_lexer": "ipython3",
   "version": "3.13.5"
  }
 },
 "nbformat": 4,
 "nbformat_minor": 5
}
