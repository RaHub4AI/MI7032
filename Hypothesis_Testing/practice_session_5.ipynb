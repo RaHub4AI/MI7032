{
 "cells": [
  {
   "cell_type": "markdown",
   "id": "e728ea0b",
   "metadata": {},
   "source": [
    "# Practice Session 5: Hypothesis Testing II"
   ]
  },
  {
   "cell_type": "code",
   "execution_count": 3,
   "id": "8a70f569",
   "metadata": {},
   "outputs": [],
   "source": [
    "import pandas as pd\n",
    "import numpy as np\n",
    "from numpy.random import default_rng\n",
    "\n",
    "import seaborn as sns\n",
    "\n",
    "from scipy import stats\n",
    "from scipy.stats import t, norm, ttest_1samp, f\n",
    "\n",
    "import matplotlib.pyplot as plt\n",
    "from ipywidgets import interact, IntSlider\n",
    "plt.rcParams[\"figure.figsize\"] = (8, 8)"
   ]
  },
  {
   "cell_type": "markdown",
   "id": "c4f529d1",
   "metadata": {},
   "source": [
    "#### <font color=\"#fc7202\">Task 5:</font>\n",
    "\n",
    "You are interested in methane emissions from cows, an important contributor to [global greenhouse gas forcing](https://physicsworld.com/a/battling-bovine-belching-measuring-methane-emissions-from-cows/).  \n",
    "You collected **10 intestinal gas samples** from different cows near Örebro. You analyzed each sample once, and then asked a friend to analyze the **same** samples independently.\n",
    "\n",
    "**Part 1**\n",
    "\n",
    "Your results and your friend’s results are listed below, as concentration of methane in the intestinal gas in units of parts per thousand (ppt).\n",
    "<div style=\"display: flex; align-items: center; justify-content: space-between;\">\n",
    "\n",
    "<div style=\"flex: 1;\">\n",
    "\n",
    "| Sample | Your result | Friend’s result |\n",
    "|:-----:|------------:|----------------:|\n",
    "| 1 | 84.63 | 83.15 |\n",
    "| 2 | 24.38 | 23.72 |\n",
    "| 3 | 14.08 | 13.84 |\n",
    "| 4 | 104.41 | 104.20 |\n",
    "| 5 | 73.82 | 73.92 |\n",
    "| 6 | 33.55 | 34.16 |\n",
    "| 7 | 93.92 | 94.02 |\n",
    "| 8 | 23.69 | 23.60 |\n",
    "| 9 | 4.06 | 4.13 |\n",
    "|10 | 84.03 | 84.24 |\n",
    "</div>\n",
    "\n",
    "<div style=\"flex: 30 0 800px; margin-left: 40px;\">\n",
    "<img src=\"https://images.stockcake.com/public/5/2/6/5269a683-fff6-4166-aa26-809b883d37e0_large/curious-brown-cow-stockcake.jpg\"\n",
    "     alt=\"Curious cow\"\n",
    "     width=\"300\"\n",
    "     style=\"border-radius: 10px;\">\n",
    "</div>\n",
    "\n",
    "</div>\n",
    "\n",
    "Is there a **significant difference** between your results and your friend’s results?\n",
    "\n"
   ]
  },
  {
   "cell_type": "markdown",
   "id": "5e0814c4",
   "metadata": {},
   "source": [
    "<font color='#00bf63'>*Your hypotheses here!*</font>"
   ]
  },
  {
   "cell_type": "code",
   "execution_count": 1,
   "id": "adc38b45",
   "metadata": {},
   "outputs": [],
   "source": [
    "# YOUR CODE HERE!"
   ]
  },
  {
   "cell_type": "markdown",
   "id": "52794321",
   "metadata": {},
   "source": [
    "<font color='#00bf63'>*Your answer here!*</font>"
   ]
  },
  {
   "cell_type": "markdown",
   "id": "2ec19266",
   "metadata": {},
   "source": [
    "**Part 2**\n",
    "\n",
    "You suspect that your friend might not have been very careful when analyzing the intestinal gas samples for methane.\n",
    "So you ask your friend to repeat the analysis of Sample 8 several times, while you also measure the same sample multiple times.\n",
    "You complete the analysis 8 times, but your friend gets bored and stops after 5 repeated measurements.\n",
    "The results are:\n",
    "\n",
    "**Repeat measurements for Sample 8 (ppt):**\n",
    "\n",
    "| Trial | Your results | Friend’s results |\n",
    "|:----:|-------------:|-----------------:|\n",
    "| 1 | 23.69 | 23.60 |\n",
    "| 2 | 23.56 | 23.30 |\n",
    "| 3 | 23.47 | 23.78 |\n",
    "| 4 | 23.71 | 23.23 |\n",
    "| 5 | 23.54 | 23.90 |\n",
    "| 6 | 23.70 | — |\n",
    "| 7 | 23.65 | — |\n",
    "| 8 | 23.59 | — |\n",
    "\n",
    "Are **your** methane measurements **significantly more precise** than your friend’s?"
   ]
  },
  {
   "cell_type": "markdown",
   "id": "dba846c2",
   "metadata": {},
   "source": [
    "<font color='#00bf63'>*Your hypotheses here!*</font>"
   ]
  },
  {
   "cell_type": "code",
   "execution_count": null,
   "id": "24617bef",
   "metadata": {},
   "outputs": [],
   "source": [
    "# YOUR CODE HERE!"
   ]
  },
  {
   "cell_type": "markdown",
   "id": "cb7c90a2",
   "metadata": {},
   "source": [
    "<font color='#00bf63'>*Your answer here!*</font>"
   ]
  },
  {
   "cell_type": "markdown",
   "id": "78b51240",
   "metadata": {},
   "source": [
    "#### <font color=\"#fc7202\">Task 5:</font>\n",
    "\n",
    "<div style=\"display: flex; align-items: center; justify-content: space-between;\">\n",
    "\n",
    "<div style=\"flex: 1;\">\n",
    "Since the year 812 CE, people in Japan have recorded the first day of the year when cherry trees reached full bloom in the city of Kyoto.\n",
    "This remarkable dataset provides one of the world’s longest continuous records of local climate effects.\n",
    "\n",
    "You can view an interactive time-series plot of the data here: [Kyoto Full Flowering Day Data (812–2025)](https://datagraver.com/kyoto-full-flowering-day-cherry-blossom-since-year-812/)\n",
    "\n",
    "(You can find this dataset on GitHub.)\n",
    "\n",
    "1. Load the dataset into Python.\\\n",
    "   We will focus on the variable “Full Flowering Date (DOY)”, which represents the day of the year when cherry blossoms reached full bloom in Kyoto.\n",
    "2. Explore the data visually.\\\n",
    "   Inspect the full time series of bloom dates and describe any long-term trends or patterns you notice.\n",
    "3. Statistical analysis.\\\n",
    "   Using an appropriate version of the *t*-test, test whether the mean flowering day after 1880 is significantly earlier than before 1880 at the 95% confidence level.\n",
    "</div>\n",
    "\n",
    "<div style=\"flex: 0 0 800px; margin-left: 40px;\">\n",
    "<img src=\"https://hips.hearstapps.com/hmg-prod/images/fuji-and-sakura-royalty-free-image-144483163-1562593125.jpg?crop=0.668xw:1.00xh;0,0&resize=1200:\"\n",
    "     alt=\"Curious cow\"\n",
    "     width=\"300\"\n",
    "     style=\"border-radius: 10px;\">\n",
    "</div>\n",
    "\n",
    "</div>"
   ]
  },
  {
   "cell_type": "markdown",
   "id": "11b550bc",
   "metadata": {},
   "source": [
    "<font color='#00bf63'>*Your hypotheses here!*</font>"
   ]
  },
  {
   "cell_type": "code",
   "execution_count": null,
   "id": "b8014f6f",
   "metadata": {},
   "outputs": [],
   "source": [
    "# YOUR CODE HERE!"
   ]
  },
  {
   "cell_type": "markdown",
   "id": "d57b0cc8",
   "metadata": {},
   "source": [
    "<font color='#00bf63'>*Your answer here!*</font>"
   ]
  }
 ],
 "metadata": {
  "colab": {
   "collapsed_sections": [],
   "provenance": []
  },
  "kernelspec": {
   "display_name": "base",
   "language": "python",
   "name": "python3"
  },
  "language_info": {
   "codemirror_mode": {
    "name": "ipython",
    "version": 3
   },
   "file_extension": ".py",
   "mimetype": "text/x-python",
   "name": "python",
   "nbconvert_exporter": "python",
   "pygments_lexer": "ipython3",
   "version": "3.13.5"
  }
 },
 "nbformat": 4,
 "nbformat_minor": 5
}
